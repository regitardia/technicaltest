{
  "nbformat": 4,
  "nbformat_minor": 0,
  "metadata": {
    "colab": {
      "name": "technicaltest.ipynb",
      "provenance": [],
      "collapsed_sections": []
    },
    "kernelspec": {
      "name": "python3",
      "display_name": "Python 3"
    },
    "language_info": {
      "name": "python"
    }
  },
  "cells": [
    {
      "cell_type": "code",
      "metadata": {
        "colab": {
          "resources": {
            "http://localhost:8080/nbextensions/google.colab/files.js": {
              "data": "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",
              "ok": true,
              "headers": [
                [
                  "content-type",
                  "application/javascript"
                ]
              ],
              "status": 200,
              "status_text": ""
            }
          },
          "base_uri": "https://localhost:8080/",
          "height": 109
        },
        "id": "P9EA6RhlA7lB",
        "outputId": "3c24891b-09e6-4da2-ecb9-50ae3a078e09"
      },
      "source": [
        "#upload data\n",
        "import numpy as np\n",
        "import matplotlib.pyplot as plt\n",
        "import seaborn as sns\n",
        "from sklearn.metrics import accuracy_score,confusion_matrix\n",
        "%matplotlib inline\n",
        "import pandas as pd\n",
        "from google.colab import files\n",
        "files.upload()"
      ],
      "execution_count": 6,
      "outputs": [
        {
          "output_type": "display_data",
          "data": {
            "text/html": [
              "\n",
              "     <input type=\"file\" id=\"files-59218cee-482d-4cb3-b88b-0ccb3e25def5\" name=\"files[]\" multiple disabled\n",
              "        style=\"border:none\" />\n",
              "     <output id=\"result-59218cee-482d-4cb3-b88b-0ccb3e25def5\">\n",
              "      Upload widget is only available when the cell has been executed in the\n",
              "      current browser session. Please rerun this cell to enable.\n",
              "      </output>\n",
              "      <script src=\"/nbextensions/google.colab/files.js\"></script> "
            ],
            "text/plain": [
              "<IPython.core.display.HTML object>"
            ]
          },
          "metadata": {
            "tags": []
          }
        },
        {
          "output_type": "stream",
          "text": [
            "Saving diabetes_data_upload.csv to diabetes_data_upload (1).csv\n"
          ],
          "name": "stdout"
        },
        {
          "output_type": "execute_result",
          "data": {
            "text/plain": [
              "{'diabetes_data_upload.csv': b'Age,Gender,Polyuria,Polydipsia,sudden weight loss,weakness,Polyphagia,Genital thrush,visual blurring,Itching,Irritability,delayed healing,partial paresis,muscle stiffness,Alopecia,Obesity,class\\r\\n40,Male,No,Yes,No,Yes,No,No,No,Yes,No,Yes,No,Yes,Yes,Yes,Positive\\r\\n58,Male,No,No,No,Yes,No,No,Yes,No,No,No,Yes,No,Yes,No,Positive\\r\\n41,Male,Yes,No,No,Yes,Yes,No,No,Yes,No,Yes,No,Yes,Yes,No,Positive\\r\\n45,Male,No,No,Yes,Yes,Yes,Yes,No,Yes,No,Yes,No,No,No,No,Positive\\r\\n60,Male,Yes,Yes,Yes,Yes,Yes,No,Yes,Yes,Yes,Yes,Yes,Yes,Yes,Yes,Positive\\r\\n55,Male,Yes,Yes,No,Yes,Yes,No,Yes,Yes,No,Yes,No,Yes,Yes,Yes,Positive\\r\\n57,Male,Yes,Yes,No,Yes,Yes,Yes,No,No,No,Yes,Yes,No,No,No,Positive\\r\\n66,Male,Yes,Yes,Yes,Yes,No,No,Yes,Yes,Yes,No,Yes,Yes,No,No,Positive\\r\\n67,Male,Yes,Yes,No,Yes,Yes,Yes,No,Yes,Yes,No,Yes,Yes,No,Yes,Positive\\r\\n70,Male,No,Yes,Yes,Yes,Yes,No,Yes,Yes,Yes,No,No,No,Yes,No,Positive\\r\\n44,Male,Yes,Yes,No,Yes,No,Yes,No,No,Yes,Yes,No,Yes,Yes,No,Positive\\r\\n38,Male,Yes,Yes,No,No,Yes,Yes,No,Yes,No,Yes,No,Yes,No,No,Positive\\r\\n35,Male,Yes,No,No,No,Yes,Yes,No,No,Yes,Yes,No,No,Yes,No,Positive\\r\\n61,Male,Yes,Yes,Yes,Yes,Yes,Yes,Yes,Yes,No,No,No,No,Yes,Yes,Positive\\r\\n60,Male,Yes,Yes,No,Yes,Yes,No,Yes,Yes,No,Yes,Yes,No,No,No,Positive\\r\\n58,Male,Yes,Yes,No,Yes,Yes,No,No,No,No,Yes,Yes,Yes,No,No,Positive\\r\\n54,Male,Yes,Yes,Yes,Yes,No,Yes,No,No,No,Yes,No,Yes,No,No,Positive\\r\\n67,Male,No,Yes,No,Yes,Yes,No,Yes,No,Yes,Yes,Yes,Yes,Yes,Yes,Positive\\r\\n66,Male,Yes,Yes,No,Yes,Yes,No,Yes,No,No,No,Yes,Yes,No,No,Positive\\r\\n43,Male,Yes,Yes,Yes,Yes,No,Yes,No,No,No,No,No,No,No,No,Positive\\r\\n62,Male,Yes,Yes,No,Yes,Yes,No,Yes,No,Yes,No,Yes,Yes,No,No,Positive\\r\\n54,Male,Yes,Yes,Yes,Yes,Yes,Yes,Yes,Yes,No,Yes,No,Yes,Yes,No,Positive\\r\\n39,Male,Yes,No,Yes,No,No,Yes,No,Yes,Yes,No,No,No,Yes,No,Positive\\r\\n48,Male,No,Yes,Yes,Yes,No,No,Yes,Yes,Yes,Yes,No,No,No,No,Positive\\r\\n58,Male,Yes,Yes,Yes,Yes,Yes,No,Yes,No,No,Yes,Yes,Yes,No,Yes,Positive\\r\\n32,Male,No,No,No,No,No,Yes,No,No,Yes,Yes,No,No,No,Yes,Positive\\r\\n42,Male,No,No,No,Yes,Yes,No,No,No,Yes,No,No,Yes,No,No,Positive\\r\\n52,Male,Yes,Yes,Yes,Yes,Yes,No,Yes,Yes,No,Yes,Yes,Yes,No,No,Positive\\r\\n38,Male,No,Yes,No,No,No,Yes,No,No,No,No,No,No,Yes,No,Positive\\r\\n53,Male,Yes,Yes,Yes,Yes,Yes,No,Yes,No,Yes,No,Yes,No,Yes,No,Positive\\r\\n57,Male,Yes,Yes,Yes,Yes,Yes,No,Yes,No,No,No,Yes,No,No,No,Positive\\r\\n41,Male,Yes,Yes,Yes,Yes,Yes,Yes,Yes,Yes,Yes,No,No,No,No,Yes,Positive\\r\\n37,Male,No,No,No,Yes,No,No,No,No,No,Yes,No,No,Yes,No,Positive\\r\\n54,Male,Yes,Yes,Yes,Yes,No,No,Yes,Yes,Yes,Yes,Yes,Yes,No,No,Positive\\r\\n49,Male,Yes,Yes,No,Yes,No,No,Yes,Yes,No,No,No,No,No,No,Positive\\r\\n48,Male,Yes,Yes,No,Yes,No,Yes,Yes,Yes,No,No,No,No,No,No,Positive\\r\\n60,Male,Yes,No,No,No,No,No,Yes,No,No,No,Yes,No,Yes,No,Positive\\r\\n63,Male,Yes,Yes,Yes,Yes,Yes,No,Yes,No,No,No,No,Yes,Yes,Yes,Positive\\r\\n35,Male,Yes,No,Yes,No,No,No,No,No,No,No,Yes,No,Yes,No,Positive\\r\\n30,Female,Yes,No,Yes,Yes,Yes,No,No,No,No,Yes,No,No,No,No,Positive\\r\\n53,Female,No,Yes,Yes,No,Yes,Yes,Yes,Yes,Yes,Yes,No,Yes,No,No,Positive\\r\\n50,Female,Yes,Yes,Yes,No,Yes,No,No,No,No,Yes,Yes,No,No,No,Positive\\r\\n50,Female,No,Yes,No,Yes,Yes,No,Yes,Yes,Yes,Yes,Yes,Yes,No,No,Positive\\r\\n35,Female,Yes,Yes,Yes,Yes,Yes,No,No,Yes,No,Yes,Yes,Yes,No,No,Positive\\r\\n40,Female,Yes,Yes,Yes,Yes,No,No,Yes,Yes,No,No,Yes,Yes,No,No,Positive\\r\\n48,Female,No,No,Yes,Yes,No,No,Yes,Yes,No,Yes,Yes,No,No,No,Positive\\r\\n60,Female,Yes,Yes,Yes,Yes,Yes,No,Yes,Yes,No,Yes,Yes,Yes,No,Yes,Positive\\r\\n60,Female,Yes,Yes,Yes,Yes,Yes,No,Yes,Yes,No,No,Yes,Yes,No,No,Positive\\r\\n35,Female,Yes,Yes,Yes,Yes,Yes,No,Yes,Yes,No,Yes,No,Yes,No,Yes,Positive\\r\\n46,Female,Yes,No,Yes,Yes,No,No,Yes,No,No,Yes,Yes,Yes,No,No,Positive\\r\\n36,Female,Yes,Yes,Yes,No,Yes,No,Yes,No,Yes,Yes,Yes,Yes,No,No,Positive\\r\\n50,Female,Yes,Yes,Yes,Yes,Yes,No,Yes,No,No,No,Yes,No,No,No,Positive\\r\\n60,Female,No,Yes,Yes,Yes,Yes,Yes,Yes,No,Yes,Yes,Yes,Yes,No,No,Positive\\r\\n50,Female,No,Yes,Yes,Yes,No,No,Yes,No,No,Yes,No,No,No,No,Positive\\r\\n51,Female,No,No,No,No,No,No,Yes,No,No,No,Yes,Yes,No,No,Positive\\r\\n38,Female,No,No,No,No,No,No,No,No,No,No,No,No,No,Yes,Positive\\r\\n66,Female,Yes,Yes,Yes,Yes,Yes,Yes,Yes,Yes,No,Yes,Yes,Yes,No,No,Positive\\r\\n53,Female,No,No,No,No,Yes,No,Yes,No,No,No,Yes,No,No,No,Positive\\r\\n59,Female,No,No,No,No,No,No,No,No,No,No,No,No,No,No,Positive\\r\\n39,Female,Yes,Yes,No,Yes,Yes,No,Yes,No,Yes,Yes,Yes,Yes,No,Yes,Positive\\r\\n65,Female,Yes,Yes,No,Yes,Yes,No,No,Yes,No,No,Yes,Yes,No,No,Positive\\r\\n35,Female,Yes,Yes,Yes,Yes,Yes,No,Yes,Yes,No,Yes,Yes,Yes,No,No,Positive\\r\\n55,Female,Yes,Yes,No,Yes,Yes,No,Yes,Yes,No,Yes,Yes,Yes,No,No,Positive\\r\\n60,Female,Yes,No,Yes,Yes,No,Yes,Yes,Yes,No,Yes,Yes,Yes,No,Yes,Positive\\r\\n45,Female,No,No,No,No,No,No,Yes,Yes,No,No,Yes,No,No,No,Positive\\r\\n40,Female,Yes,No,Yes,No,Yes,No,No,No,No,No,No,No,No,No,Positive\\r\\n30,Female,Yes,Yes,No,No,No,No,No,Yes,No,Yes,Yes,No,No,No,Positive\\r\\n35,Female,No,Yes,Yes,Yes,Yes,No,No,Yes,No,No,Yes,No,No,No,Positive\\r\\n25,Female,No,No,No,Yes,Yes,No,Yes,No,No,No,No,No,Yes,No,Positive\\r\\n50,Female,Yes,Yes,Yes,Yes,Yes,No,Yes,No,No,No,Yes,No,No,Yes,Positive\\r\\n40,Female,No,No,Yes,Yes,No,No,No,No,No,No,No,No,No,No,Positive\\r\\n35,Female,No,Yes,Yes,Yes,No,No,No,Yes,No,Yes,Yes,Yes,No,No,Positive\\r\\n65,Female,No,No,No,No,No,Yes,No,No,No,No,No,No,No,No,Positive\\r\\n38,Female,Yes,Yes,Yes,Yes,Yes,No,No,No,No,No,Yes,No,No,No,Positive\\r\\n50,Female,Yes,Yes,Yes,Yes,Yes,No,No,Yes,No,Yes,Yes,Yes,No,No,Positive\\r\\n55,Female,Yes,Yes,Yes,Yes,No,No,Yes,No,No,No,Yes,No,No,Yes,Positive\\r\\n48,Female,Yes,Yes,Yes,Yes,Yes,No,No,No,No,No,Yes,No,No,No,Positive\\r\\n55,Female,Yes,Yes,Yes,No,Yes,No,No,Yes,No,Yes,Yes,No,No,No,Positive\\r\\n39,Female,Yes,Yes,Yes,Yes,Yes,No,No,Yes,Yes,Yes,Yes,No,No,No,Positive\\r\\n43,Female,Yes,Yes,Yes,Yes,Yes,No,Yes,No,No,No,Yes,Yes,No,Yes,Positive\\r\\n35,Female,Yes,Yes,No,Yes,No,No,Yes,No,No,No,No,No,No,No,Positive\\r\\n47,Female,No,No,Yes,Yes,Yes,No,No,No,No,No,No,Yes,No,No,Positive\\r\\n50,Female,Yes,Yes,No,Yes,Yes,No,No,No,No,Yes,Yes,No,No,No,Positive\\r\\n48,Female,Yes,Yes,No,Yes,No,No,Yes,Yes,No,Yes,Yes,No,No,No,Positive\\r\\n35,Female,Yes,Yes,Yes,Yes,Yes,No,Yes,Yes,No,Yes,Yes,Yes,No,No,Positive\\r\\n49,Female,No,No,Yes,Yes,No,No,No,No,No,No,No,No,No,Yes,Positive\\r\\n38,Female,Yes,Yes,Yes,Yes,Yes,No,Yes,Yes,Yes,Yes,Yes,Yes,No,No,Positive\\r\\n28,Female,No,No,No,No,No,No,Yes,No,No,No,Yes,Yes,No,No,Positive\\r\\n68,Female,Yes,Yes,No,Yes,Yes,No,Yes,Yes,No,Yes,Yes,No,No,No,Positive\\r\\n35,Female,No,No,No,No,No,No,No,No,No,No,No,No,No,No,Positive\\r\\n45,Female,No,No,No,No,Yes,No,Yes,Yes,No,No,Yes,No,No,No,Positive\\r\\n48,Female,Yes,Yes,Yes,Yes,Yes,No,Yes,Yes,Yes,Yes,Yes,Yes,No,No,Positive\\r\\n40,Female,Yes,Yes,Yes,Yes,No,No,Yes,No,No,Yes,Yes,Yes,No,No,Positive\\r\\n40,Female,Yes,Yes,No,Yes,Yes,No,No,Yes,No,No,Yes,No,No,No,Positive\\r\\n36,Female,Yes,Yes,No,Yes,Yes,No,Yes,Yes,No,Yes,Yes,No,No,No,Positive\\r\\n56,Female,Yes,Yes,No,Yes,No,No,Yes,Yes,No,No,Yes,No,No,No,Positive\\r\\n30,Female,Yes,Yes,Yes,Yes,No,No,No,Yes,No,Yes,Yes,Yes,No,No,Positive\\r\\n31,Female,Yes,Yes,Yes,Yes,Yes,No,No,Yes,Yes,No,Yes,Yes,No,No,Positive\\r\\n35,Female,Yes,Yes,No,No,No,No,Yes,No,No,No,No,No,Yes,No,Positive\\r\\n39,Female,Yes,Yes,No,No,Yes,Yes,Yes,Yes,No,Yes,Yes,No,No,No,Positive\\r\\n48,Female,Yes,Yes,Yes,No,Yes,Yes,No,No,Yes,Yes,No,Yes,Yes,Yes,Positive\\r\\n85,Male,Yes,Yes,Yes,Yes,Yes,Yes,Yes,Yes,No,Yes,Yes,Yes,No,No,Positive\\r\\n90,Female,No,Yes,Yes,No,No,Yes,Yes,Yes,No,No,No,Yes,Yes,No,Positive\\r\\n72,Male,Yes,No,Yes,Yes,Yes,No,No,No,Yes,Yes,Yes,Yes,Yes,No,Positive\\r\\n70,Male,Yes,No,Yes,Yes,Yes,Yes,No,No,Yes,Yes,Yes,Yes,Yes,No,Positive\\r\\n69,Female,Yes,No,Yes,Yes,Yes,Yes,Yes,Yes,No,Yes,No,No,Yes,No,Positive\\r\\n58,Male,No,Yes,Yes,Yes,Yes,No,Yes,Yes,No,No,Yes,No,Yes,Yes,Positive\\r\\n47,Male,Yes,No,Yes,Yes,Yes,No,No,No,No,Yes,Yes,Yes,No,No,Positive\\r\\n25,Male,Yes,Yes,No,No,Yes,Yes,Yes,Yes,No,Yes,No,No,Yes,No,Positive\\r\\n39,Female,Yes,Yes,No,No,Yes,No,Yes,No,Yes,Yes,Yes,Yes,No,No,Positive\\r\\n53,Female,No,No,Yes,Yes,No,No,Yes,Yes,No,Yes,No,No,No,No,Positive\\r\\n52,Male,Yes,Yes,Yes,No,Yes,Yes,Yes,No,Yes,No,Yes,No,Yes,Yes,Positive\\r\\n68,Female,Yes,Yes,Yes,No,Yes,Yes,Yes,No,Yes,Yes,No,Yes,Yes,No,Positive\\r\\n79,Male,No,Yes,Yes,Yes,Yes,Yes,No,Yes,Yes,No,Yes,No,No,No,Positive\\r\\n55,Female,Yes,No,Yes,No,No,Yes,Yes,Yes,No,Yes,Yes,No,No,No,Positive\\r\\n45,Female,Yes,Yes,Yes,Yes,Yes,No,Yes,Yes,Yes,Yes,Yes,No,No,No,Positive\\r\\n30,Female,Yes,Yes,Yes,No,Yes,No,No,No,Yes,No,Yes,Yes,No,No,Positive\\r\\n45,Female,Yes,Yes,No,Yes,Yes,No,Yes,Yes,Yes,Yes,Yes,Yes,No,No,Positive\\r\\n65,Female,Yes,Yes,No,Yes,No,No,Yes,Yes,Yes,Yes,Yes,No,No,No,Positive\\r\\n34,Female,Yes,Yes,No,Yes,No,No,No,No,Yes,No,No,Yes,No,No,Positive\\r\\n48,Male,Yes,Yes,No,Yes,Yes,No,No,No,No,Yes,No,Yes,Yes,No,Positive\\r\\n35,Male,Yes,Yes,No,Yes,Yes,Yes,No,Yes,No,Yes,Yes,Yes,No,No,Positive\\r\\n40,Male,No,Yes,No,Yes,Yes,No,No,Yes,Yes,Yes,Yes,Yes,No,Yes,Positive\\r\\n47,Male,No,Yes,No,No,No,No,Yes,Yes,No,No,No,No,Yes,Yes,Positive\\r\\n38,Male,Yes,No,Yes,Yes,No,No,No,No,No,No,No,No,No,No,Positive\\r\\n55,Male,Yes,Yes,Yes,Yes,Yes,No,Yes,No,No,Yes,Yes,No,No,No,Positive\\r\\n66,Male,Yes,Yes,No,Yes,No,Yes,No,Yes,Yes,Yes,Yes,No,No,No,Positive\\r\\n57,Male,Yes,No,No,Yes,Yes,No,No,Yes,Yes,No,No,Yes,Yes,No,Positive\\r\\n32,Male,No,Yes,No,Yes,Yes,Yes,No,Yes,Yes,No,No,No,Yes,No,Positive\\r\\n48,Male,Yes,Yes,Yes,Yes,No,No,No,Yes,No,No,Yes,No,Yes,No,Positive\\r\\n47,Male,Yes,Yes,Yes,Yes,Yes,Yes,Yes,Yes,Yes,No,No,Yes,No,No,Positive\\r\\n43,Male,Yes,No,No,No,Yes,No,No,No,Yes,No,No,Yes,No,No,Positive\\r\\n30,Male,Yes,Yes,Yes,Yes,No,Yes,No,No,No,Yes,No,No,No,No,Positive\\r\\n16,Male,Yes,No,Yes,No,Yes,No,No,No,No,No,No,No,No,No,Positive\\r\\n35,Male,Yes,Yes,Yes,Yes,No,No,No,No,No,No,No,No,No,No,Positive\\r\\n66,Male,No,No,No,Yes,No,Yes,Yes,No,Yes,Yes,Yes,Yes,Yes,No,Positive\\r\\n54,Male,No,No,No,No,No,Yes,No,Yes,Yes,No,No,Yes,Yes,Yes,Positive\\r\\n58,Male,Yes,Yes,Yes,Yes,Yes,Yes,No,Yes,Yes,Yes,Yes,Yes,Yes,Yes,Positive\\r\\n51,Male,Yes,Yes,Yes,Yes,No,Yes,No,No,Yes,Yes,Yes,No,Yes,No,Positive\\r\\n40,Male,Yes,No,No,No,No,Yes,No,Yes,No,Yes,No,No,Yes,No,Positive\\r\\n47,Male,Yes,Yes,No,No,No,No,No,No,No,No,No,Yes,No,No,Positive\\r\\n62,Male,Yes,Yes,No,No,Yes,No,Yes,No,Yes,Yes,Yes,No,Yes,No,Positive\\r\\n49,Male,Yes,Yes,Yes,No,No,No,No,Yes,No,No,No,No,No,No,Positive\\r\\n53,Male,Yes,No,Yes,No,No,No,No,No,No,Yes,Yes,No,No,No,Positive\\r\\n68,Male,Yes,Yes,No,No,Yes,No,Yes,Yes,Yes,No,Yes,No,No,No,Positive\\r\\n61,Male,Yes,No,No,Yes,Yes,Yes,Yes,Yes,Yes,Yes,Yes,No,No,No,Positive\\r\\n39,Male,Yes,Yes,No,No,No,Yes,No,Yes,No,No,No,Yes,No,Yes,Positive\\r\\n38,Male,Yes,No,No,No,No,Yes,No,Yes,No,No,No,Yes,No,Yes,Positive\\r\\n44,Male,No,Yes,No,No,No,Yes,No,No,No,Yes,No,No,No,Yes,Positive\\r\\n45,Male,Yes,Yes,No,Yes,No,Yes,No,No,No,Yes,No,No,Yes,No,Positive\\r\\n50,Male,Yes,Yes,Yes,Yes,Yes,No,No,Yes,Yes,Yes,No,No,Yes,No,Positive\\r\\n42,Male,Yes,Yes,No,Yes,No,Yes,No,No,Yes,No,Yes,No,Yes,No,Positive\\r\\n55,Male,No,Yes,No,Yes,No,Yes,No,No,Yes,Yes,No,No,Yes,No,Positive\\r\\n57,Male,No,Yes,No,Yes,No,Yes,Yes,No,Yes,Yes,Yes,Yes,Yes,No,Positive\\r\\n62,Male,Yes,No,No,Yes,No,Yes,Yes,Yes,Yes,No,Yes,Yes,Yes,Yes,Positive\\r\\n33,Male,No,Yes,No,No,No,No,No,No,No,No,No,No,No,No,Positive\\r\\n55,Male,Yes,Yes,Yes,Yes,No,Yes,No,No,Yes,No,Yes,No,No,No,Positive\\r\\n48,Male,Yes,Yes,Yes,No,Yes,Yes,No,No,No,Yes,No,No,No,No,Positive\\r\\n56,Male,Yes,No,Yes,Yes,No,Yes,No,Yes,Yes,No,No,No,Yes,No,Positive\\r\\n38,Female,Yes,Yes,Yes,Yes,Yes,No,Yes,Yes,Yes,Yes,Yes,Yes,No,No,Positive\\r\\n28,Female,No,No,No,No,No,No,Yes,No,No,No,Yes,Yes,No,No,Positive\\r\\n68,Female,Yes,Yes,No,Yes,Yes,No,Yes,Yes,No,Yes,Yes,No,No,No,Positive\\r\\n35,Female,No,No,No,No,No,No,No,No,No,No,No,No,No,No,Positive\\r\\n45,Female,No,No,No,No,Yes,No,Yes,Yes,No,No,Yes,No,No,No,Positive\\r\\n48,Female,Yes,Yes,Yes,Yes,Yes,No,Yes,Yes,Yes,Yes,Yes,Yes,No,No,Positive\\r\\n40,Female,Yes,Yes,Yes,Yes,No,No,Yes,No,No,Yes,Yes,Yes,No,No,Positive\\r\\n57,Male,Yes,Yes,Yes,Yes,Yes,No,Yes,No,No,No,Yes,No,No,No,Positive\\r\\n41,Male,Yes,Yes,Yes,Yes,Yes,Yes,Yes,Yes,Yes,No,No,No,No,Yes,Positive\\r\\n37,Male,No,No,No,Yes,No,No,No,No,No,Yes,No,No,Yes,No,Positive\\r\\n54,Male,Yes,Yes,Yes,Yes,No,No,Yes,Yes,Yes,Yes,Yes,Yes,No,No,Positive\\r\\n49,Male,Yes,Yes,No,Yes,No,No,Yes,Yes,No,No,No,No,No,No,Positive\\r\\n48,Male,Yes,Yes,No,Yes,No,Yes,Yes,Yes,No,No,No,No,No,No,Positive\\r\\n60,Male,Yes,No,No,No,No,No,Yes,No,No,No,Yes,No,Yes,No,Positive\\r\\n63,Male,Yes,Yes,Yes,Yes,Yes,No,Yes,No,No,No,No,Yes,Yes,Yes,Positive\\r\\n35,Male,Yes,No,Yes,No,No,No,No,No,No,No,Yes,No,Yes,No,Positive\\r\\n30,Female,Yes,No,Yes,Yes,Yes,No,No,No,No,Yes,No,No,No,No,Positive\\r\\n53,Female,No,Yes,Yes,No,Yes,Yes,Yes,Yes,Yes,Yes,No,Yes,No,No,Positive\\r\\n50,Female,Yes,Yes,Yes,No,Yes,No,No,No,No,Yes,Yes,No,No,No,Positive\\r\\n50,Female,No,Yes,No,Yes,Yes,No,Yes,Yes,Yes,Yes,Yes,Yes,No,No,Positive\\r\\n35,Female,Yes,Yes,Yes,Yes,Yes,No,No,Yes,No,Yes,Yes,Yes,No,No,Positive\\r\\n40,Female,Yes,Yes,Yes,Yes,No,No,Yes,Yes,No,No,Yes,Yes,No,No,Positive\\r\\n31,Female,Yes,Yes,Yes,Yes,Yes,No,No,Yes,Yes,No,Yes,Yes,No,No,Positive\\r\\n35,Female,Yes,Yes,No,No,No,No,Yes,No,No,No,No,No,Yes,No,Positive\\r\\n39,Female,Yes,Yes,No,No,Yes,Yes,Yes,Yes,No,Yes,Yes,No,No,No,Positive\\r\\n48,Female,Yes,Yes,Yes,No,Yes,Yes,No,No,Yes,Yes,No,Yes,Yes,Yes,Positive\\r\\n85,Male,Yes,Yes,Yes,Yes,Yes,Yes,Yes,Yes,No,Yes,Yes,Yes,No,No,Positive\\r\\n90,Female,No,Yes,Yes,No,No,Yes,Yes,Yes,No,No,No,Yes,Yes,No,Positive\\r\\n72,Male,Yes,No,Yes,Yes,Yes,No,No,No,Yes,Yes,Yes,Yes,Yes,No,Positive\\r\\n70,Male,Yes,No,Yes,Yes,Yes,Yes,No,No,Yes,Yes,Yes,Yes,Yes,No,Positive\\r\\n69,Female,Yes,No,Yes,Yes,Yes,Yes,Yes,Yes,No,Yes,No,No,Yes,No,Positive\\r\\n58,Male,No,Yes,Yes,Yes,Yes,No,Yes,Yes,No,No,Yes,No,Yes,Yes,Positive\\r\\n54,Male,Yes,Yes,No,No,No,No,Yes,No,No,No,No,No,No,No,Positive\\r\\n64,Male,No,Yes,No,No,No,No,No,No,Yes,Yes,No,No,No,No,Positive\\r\\n36,Male,Yes,No,No,Yes,No,Yes,Yes,Yes,No,Yes,No,No,No,No,Positive\\r\\n43,Male,No,No,Yes,Yes,Yes,Yes,Yes,Yes,Yes,Yes,No,No,No,No,Positive\\r\\n31,Male,Yes,No,No,No,Yes,No,Yes,No,No,No,Yes,No,Yes,No,Positive\\r\\n66,Male,No,No,No,No,Yes,No,Yes,No,No,No,Yes,No,Yes,No,Positive\\r\\n61,Female,Yes,No,No,No,Yes,No,No,No,Yes,No,No,No,Yes,No,Positive\\r\\n58,Female,Yes,No,Yes,No,Yes,No,No,No,Yes,No,No,Yes,No,Yes,Positive\\r\\n69,Female,Yes,Yes,Yes,Yes,No,No,Yes,Yes,Yes,No,No,Yes,No,Yes,Positive\\r\\n40,Male,No,Yes,Yes,Yes,No,No,Yes,Yes,No,No,Yes,Yes,No,No,Negative\\r\\n28,Male,No,No,Yes,No,No,No,No,No,No,No,No,No,No,No,Negative\\r\\n37,Male,No,No,No,No,No,No,No,No,No,No,No,No,No,No,Negative\\r\\n34,Male,No,No,No,No,No,No,No,No,No,No,No,No,No,No,Negative\\r\\n30,Male,No,No,No,No,No,No,No,No,No,No,No,No,No,No,Negative\\r\\n67,Male,Yes,No,No,Yes,Yes,No,Yes,Yes,Yes,Yes,No,Yes,Yes,Yes,Negative\\r\\n60,Male,No,No,No,Yes,No,No,No,No,No,No,Yes,Yes,No,No,Negative\\r\\n58,Male,No,No,No,No,Yes,No,No,Yes,No,Yes,No,No,Yes,Yes,Negative\\r\\n54,Male,No,No,Yes,Yes,No,Yes,No,No,No,Yes,No,No,Yes,No,Negative\\r\\n43,Male,No,No,Yes,No,No,Yes,No,No,No,Yes,No,No,Yes,No,Negative\\r\\n39,Male,No,No,No,Yes,No,Yes,No,No,No,No,No,No,No,No,Negative\\r\\n40,Male,No,No,No,Yes,No,No,No,No,Yes,No,No,No,No,No,Negative\\r\\n43,Male,No,No,No,No,No,No,No,No,Yes,No,No,No,No,No,Negative\\r\\n49,Male,No,Yes,No,No,No,No,No,Yes,No,No,Yes,No,No,Yes,Negative\\r\\n47,Male,No,No,No,No,No,No,No,Yes,No,No,No,No,Yes,No,Negative\\r\\n45,Male,No,No,No,No,Yes,Yes,No,No,No,No,No,No,No,No,Negative\\r\\n57,Male,No,No,No,No,Yes,No,Yes,No,No,No,No,Yes,No,No,Negative\\r\\n72,Male,Yes,No,No,No,Yes,No,Yes,Yes,No,Yes,Yes,Yes,Yes,No,Negative\\r\\n30,Male,No,No,No,No,No,No,No,No,No,No,No,No,No,No,Negative\\r\\n27,Male,No,No,No,No,No,No,No,No,No,No,No,No,No,No,Negative\\r\\n38,Male,No,No,No,No,No,No,No,No,No,No,No,No,No,No,Negative\\r\\n43,Male,No,No,No,Yes,No,Yes,No,Yes,No,Yes,No,No,Yes,No,Negative\\r\\n40,Male,No,No,Yes,No,No,No,No,No,No,No,No,No,No,Yes,Negative\\r\\n55,Male,No,No,No,Yes,Yes,No,Yes,Yes,No,Yes,No,Yes,No,Yes,Negative\\r\\n68,Male,No,No,No,Yes,Yes,No,Yes,Yes,No,Yes,No,No,Yes,No,Negative\\r\\n29,Male,No,No,No,Yes,No,No,No,No,No,No,No,No,No,No,Negative\\r\\n37,Male,No,No,No,No,No,No,No,Yes,No,No,No,No,No,No,Negative\\r\\n30,Male,No,No,Yes,Yes,No,No,No,No,No,No,No,No,No,No,Negative\\r\\n45,Male,No,No,No,Yes,No,No,No,Yes,Yes,Yes,Yes,No,No,No,Negative\\r\\n47,Male,No,No,No,No,No,No,No,Yes,No,Yes,No,No,Yes,No,Negative\\r\\n35,Male,No,No,Yes,Yes,No,Yes,No,No,No,No,No,No,No,No,Negative\\r\\n32,Male,No,No,No,Yes,No,No,No,No,No,No,No,No,No,No,Negative\\r\\n56,Male,No,Yes,No,Yes,Yes,No,Yes,Yes,No,Yes,No,Yes,Yes,No,Negative\\r\\n50,Male,No,No,No,Yes,No,No,No,Yes,No,Yes,Yes,Yes,Yes,No,Negative\\r\\n52,Male,No,No,No,Yes,Yes,No,No,Yes,No,Yes,No,No,Yes,No,Negative\\r\\n26,Male,No,No,No,No,No,No,No,No,No,No,No,No,No,No,Negative\\r\\n60,Male,No,No,No,Yes,Yes,No,Yes,Yes,No,Yes,No,Yes,Yes,No,Negative\\r\\n65,Male,No,No,No,Yes,No,No,Yes,Yes,No,Yes,Yes,Yes,Yes,No,Negative\\r\\n72,Male,No,No,No,No,Yes,No,Yes,Yes,No,Yes,No,Yes,Yes,No,Negative\\r\\n30,Male,No,No,No,Yes,No,No,No,No,No,No,No,No,No,No,Negative\\r\\n45,Male,No,No,No,Yes,No,No,No,Yes,No,No,Yes,No,Yes,No,Negative\\r\\n65,Male,Yes,No,No,No,No,No,Yes,Yes,Yes,Yes,No,Yes,Yes,Yes,Negative\\r\\n70,Male,No,No,No,Yes,No,No,Yes,Yes,No,Yes,No,Yes,Yes,No,Negative\\r\\n35,Male,No,No,No,Yes,No,No,No,No,No,No,No,No,No,No,Negative\\r\\n54,Male,No,No,No,Yes,No,No,No,Yes,No,Yes,No,Yes,Yes,No,Negative\\r\\n30,Male,No,No,No,No,No,No,No,No,No,No,No,No,No,No,Negative\\r\\n46,Male,No,No,No,Yes,No,No,No,Yes,No,Yes,No,No,Yes,No,Negative\\r\\n53,Male,No,No,No,Yes,Yes,No,Yes,Yes,No,Yes,Yes,Yes,Yes,No,Negative\\r\\n42,Male,No,No,No,No,No,No,No,No,No,No,No,No,Yes,No,Negative\\r\\n55,Female,Yes,Yes,Yes,Yes,No,No,Yes,No,No,No,Yes,No,No,Yes,Positive\\r\\n48,Female,Yes,Yes,Yes,Yes,Yes,No,No,No,No,No,Yes,No,No,No,Positive\\r\\n55,Female,Yes,Yes,Yes,No,Yes,No,No,Yes,No,Yes,Yes,No,No,No,Positive\\r\\n39,Female,Yes,Yes,Yes,Yes,Yes,No,No,Yes,Yes,Yes,Yes,No,No,No,Positive\\r\\n43,Female,Yes,Yes,Yes,Yes,Yes,No,Yes,No,No,No,Yes,Yes,No,Yes,Positive\\r\\n35,Female,Yes,Yes,No,Yes,No,No,Yes,No,No,No,No,No,No,No,Positive\\r\\n47,Female,No,No,Yes,Yes,Yes,No,No,No,No,No,No,Yes,No,No,Positive\\r\\n50,Female,Yes,Yes,No,Yes,Yes,No,No,No,No,Yes,Yes,No,No,No,Positive\\r\\n48,Female,Yes,Yes,No,Yes,No,No,Yes,Yes,No,Yes,Yes,No,No,No,Positive\\r\\n35,Female,Yes,Yes,Yes,Yes,Yes,No,Yes,Yes,No,Yes,Yes,Yes,No,No,Positive\\r\\n62,Male,Yes,No,No,Yes,No,Yes,Yes,Yes,Yes,No,Yes,Yes,Yes,Yes,Positive\\r\\n33,Male,No,Yes,No,No,No,No,No,No,No,No,No,No,No,No,Positive\\r\\n55,Male,Yes,Yes,Yes,Yes,No,Yes,No,No,Yes,No,Yes,No,No,No,Positive\\r\\n48,Male,Yes,Yes,Yes,No,Yes,Yes,No,No,No,Yes,No,No,No,No,Positive\\r\\n56,Male,Yes,No,Yes,Yes,No,Yes,No,Yes,Yes,No,No,No,Yes,No,Positive\\r\\n38,Female,Yes,Yes,Yes,Yes,Yes,No,Yes,Yes,Yes,Yes,Yes,Yes,No,No,Positive\\r\\n28,Female,No,No,No,No,No,No,Yes,No,No,No,Yes,Yes,No,No,Positive\\r\\n68,Female,Yes,Yes,No,Yes,Yes,No,Yes,Yes,No,Yes,Yes,No,No,No,Positive\\r\\n35,Female,No,No,No,No,No,No,No,No,No,No,No,No,No,No,Positive\\r\\n45,Female,No,No,No,No,Yes,No,Yes,Yes,No,No,Yes,No,No,No,Positive\\r\\n48,Female,Yes,Yes,Yes,Yes,Yes,No,Yes,Yes,Yes,Yes,Yes,Yes,No,No,Positive\\r\\n40,Female,Yes,Yes,Yes,Yes,No,No,Yes,No,No,Yes,Yes,Yes,No,No,Positive\\r\\n57,Male,Yes,Yes,Yes,Yes,Yes,No,Yes,No,No,No,Yes,No,No,No,Positive\\r\\n47,Male,No,No,No,No,No,No,No,Yes,No,No,No,No,Yes,No,Negative\\r\\n45,Male,No,No,No,No,Yes,Yes,No,No,No,No,No,No,No,No,Negative\\r\\n57,Male,No,No,No,No,Yes,No,Yes,No,No,No,No,Yes,No,No,Negative\\r\\n72,Male,Yes,No,No,No,Yes,No,Yes,Yes,No,Yes,Yes,Yes,Yes,No,Negative\\r\\n30,Male,No,No,No,No,No,No,No,No,No,No,No,No,No,No,Negative\\r\\n27,Male,No,No,No,No,No,No,No,No,No,No,No,No,No,No,Negative\\r\\n38,Male,No,No,No,No,No,No,No,No,No,No,No,No,No,No,Negative\\r\\n43,Male,No,No,No,Yes,No,Yes,No,Yes,No,Yes,No,No,Yes,No,Negative\\r\\n40,Male,No,No,Yes,No,No,No,No,No,No,No,No,No,No,Yes,Negative\\r\\n47,Male,No,No,No,No,No,No,No,Yes,No,No,No,No,Yes,No,Negative\\r\\n45,Male,No,No,No,No,Yes,Yes,No,No,No,No,No,No,No,No,Negative\\r\\n57,Male,No,No,No,No,Yes,No,Yes,No,No,No,No,Yes,No,No,Negative\\r\\n72,Male,Yes,No,No,No,Yes,No,Yes,Yes,No,Yes,Yes,Yes,Yes,No,Negative\\r\\n30,Male,No,No,No,No,No,No,No,No,No,No,No,No,No,No,Negative\\r\\n27,Male,No,No,No,No,No,No,No,No,No,No,No,No,No,No,Negative\\r\\n38,Male,No,No,No,No,No,No,No,No,No,No,No,No,No,No,Negative\\r\\n43,Male,No,No,No,Yes,No,Yes,No,Yes,No,Yes,No,No,Yes,No,Negative\\r\\n40,Male,No,No,Yes,No,No,No,No,No,No,No,No,No,No,Yes,Negative\\r\\n54,Male,No,No,No,Yes,No,No,No,Yes,No,Yes,No,Yes,Yes,No,Negative\\r\\n30,Male,No,No,No,No,No,No,No,No,No,No,No,No,No,No,Negative\\r\\n46,Male,No,No,No,Yes,No,No,No,Yes,No,Yes,No,No,Yes,No,Negative\\r\\n53,Male,No,No,No,Yes,Yes,No,Yes,Yes,No,Yes,Yes,Yes,Yes,No,Negative\\r\\n42,Male,No,No,No,No,No,No,No,No,No,No,No,No,Yes,No,Negative\\r\\n55,Female,Yes,Yes,Yes,Yes,No,No,Yes,No,No,No,Yes,No,No,Yes,Positive\\r\\n48,Female,Yes,Yes,Yes,Yes,Yes,No,No,No,No,No,Yes,No,No,No,Positive\\r\\n55,Female,Yes,Yes,Yes,No,Yes,No,No,Yes,No,Yes,Yes,No,No,No,Positive\\r\\n39,Female,Yes,Yes,Yes,Yes,Yes,No,No,Yes,Yes,Yes,Yes,No,No,No,Positive\\r\\n43,Female,Yes,Yes,Yes,Yes,Yes,No,Yes,No,No,No,Yes,Yes,No,Yes,Positive\\r\\n35,Female,Yes,Yes,No,Yes,No,No,Yes,No,No,No,No,No,No,No,Positive\\r\\n47,Female,No,No,Yes,Yes,Yes,No,No,No,No,No,No,Yes,No,No,Positive\\r\\n61,Female,Yes,No,No,No,Yes,No,No,No,Yes,No,No,No,Yes,No,Positive\\r\\n58,Female,Yes,No,Yes,No,Yes,No,No,No,Yes,No,No,Yes,No,Yes,Positive\\r\\n69,Female,Yes,Yes,Yes,Yes,No,No,Yes,Yes,Yes,No,No,Yes,No,Yes,Positive\\r\\n40,Male,No,Yes,Yes,Yes,No,No,Yes,Yes,No,No,Yes,Yes,No,No,Negative\\r\\n28,Male,No,No,Yes,No,No,No,No,No,No,No,No,No,No,No,Negative\\r\\n37,Male,No,No,No,No,No,No,No,No,No,No,No,No,No,No,Negative\\r\\n34,Male,No,No,No,No,No,No,No,No,No,No,No,No,No,No,Negative\\r\\n30,Male,No,No,No,No,No,No,No,No,No,No,No,No,No,No,Negative\\r\\n67,Male,Yes,No,No,Yes,Yes,No,Yes,Yes,Yes,Yes,No,Yes,Yes,Yes,Negative\\r\\n60,Male,No,No,No,Yes,No,No,No,No,No,No,Yes,Yes,No,No,Negative\\r\\n58,Male,No,No,No,No,Yes,No,No,Yes,No,Yes,No,No,Yes,Yes,Negative\\r\\n54,Male,No,No,Yes,Yes,No,Yes,No,No,No,Yes,No,No,Yes,No,Negative\\r\\n43,Male,No,No,Yes,No,No,Yes,No,No,No,Yes,No,No,Yes,No,Negative\\r\\n33,Female,No,No,No,No,No,No,No,No,No,No,No,No,No,No,Negative\\r\\n55,Female,No,No,No,Yes,No,Yes,No,Yes,No,Yes,Yes,No,Yes,No,Negative\\r\\n36,Female,No,No,No,Yes,No,No,No,No,Yes,No,No,No,No,No,Negative\\r\\n28,Female,No,No,No,No,Yes,No,No,No,No,No,Yes,No,No,No,Negative\\r\\n34,Female,No,No,Yes,No,No,No,No,No,No,No,No,No,No,No,Negative\\r\\n65,Female,No,No,No,Yes,No,No,No,Yes,No,Yes,No,No,Yes,No,Negative\\r\\n34,Female,No,No,No,No,No,No,No,No,No,No,No,No,No,No,Negative\\r\\n64,Male,No,No,No,Yes,Yes,No,Yes,Yes,Yes,Yes,No,Yes,Yes,No,Negative\\r\\n44,Male,Yes,No,Yes,Yes,No,Yes,No,Yes,No,Yes,No,No,Yes,Yes,Negative\\r\\n36,Male,No,No,No,No,No,No,No,No,No,No,No,No,No,No,Negative\\r\\n43,Male,No,No,No,Yes,No,Yes,No,Yes,No,No,No,No,Yes,No,Negative\\r\\n53,Male,No,No,No,Yes,No,No,Yes,Yes,No,Yes,No,Yes,Yes,No,Negative\\r\\n47,Male,No,No,No,No,No,No,No,No,Yes,No,Yes,No,No,Yes,Negative\\r\\n58,Male,No,Yes,No,No,No,No,Yes,Yes,No,No,No,Yes,No,No,Negative\\r\\n56,Male,No,No,Yes,Yes,Yes,No,Yes,Yes,No,Yes,No,Yes,Yes,No,Negative\\r\\n51,Female,No,No,No,No,No,Yes,No,Yes,No,Yes,No,No,Yes,No,Negative\\r\\n59,Female,No,No,No,Yes,No,No,Yes,Yes,No,Yes,No,Yes,Yes,Yes,Negative\\r\\n50,Female,No,No,No,Yes,No,No,Yes,Yes,No,Yes,No,No,Yes,No,Negative\\r\\n30,Male,No,No,No,No,No,No,No,No,No,No,No,No,No,No,Negative\\r\\n46,Male,No,No,No,Yes,No,No,No,Yes,No,Yes,No,No,Yes,No,Negative\\r\\n53,Male,No,No,No,Yes,Yes,No,Yes,Yes,No,Yes,Yes,Yes,Yes,No,Negative\\r\\n42,Male,No,No,No,No,No,No,No,No,No,No,No,No,Yes,No,Negative\\r\\n55,Female,Yes,Yes,Yes,Yes,No,No,Yes,No,No,No,Yes,No,No,Yes,Positive\\r\\n48,Female,Yes,Yes,Yes,Yes,Yes,No,No,No,No,No,Yes,No,No,No,Positive\\r\\n55,Female,Yes,Yes,Yes,No,Yes,No,No,Yes,No,Yes,Yes,No,No,No,Positive\\r\\n39,Female,Yes,Yes,Yes,Yes,Yes,No,No,Yes,Yes,Yes,Yes,No,No,No,Positive\\r\\n43,Female,Yes,Yes,Yes,Yes,Yes,No,Yes,No,No,No,Yes,Yes,No,Yes,Positive\\r\\n35,Female,Yes,Yes,No,Yes,No,No,Yes,No,No,No,No,No,No,No,Positive\\r\\n47,Female,No,No,Yes,Yes,Yes,No,No,No,No,No,No,Yes,No,No,Positive\\r\\n61,Female,Yes,No,No,No,Yes,No,No,No,Yes,No,No,No,Yes,No,Positive\\r\\n58,Female,Yes,No,Yes,No,Yes,No,No,No,Yes,No,No,Yes,No,Yes,Positive\\r\\n69,Female,Yes,Yes,Yes,Yes,No,No,Yes,Yes,Yes,No,No,Yes,No,Yes,Positive\\r\\n40,Male,No,Yes,Yes,Yes,No,No,Yes,Yes,No,No,Yes,Yes,No,No,Negative\\r\\n28,Male,No,No,Yes,No,No,No,No,No,No,No,No,No,No,No,Negative\\r\\n37,Male,No,No,No,No,No,No,No,No,No,No,No,No,No,No,Negative\\r\\n34,Male,No,No,No,No,No,No,No,No,No,No,No,No,No,No,Negative\\r\\n30,Male,No,No,No,No,No,No,No,No,No,No,No,No,No,No,Negative\\r\\n67,Male,Yes,No,No,Yes,Yes,No,Yes,Yes,Yes,Yes,No,Yes,Yes,Yes,Negative\\r\\n60,Male,No,No,No,Yes,No,No,No,No,No,No,Yes,Yes,No,No,Negative\\r\\n58,Male,No,No,No,No,Yes,No,No,Yes,No,Yes,No,No,Yes,Yes,Negative\\r\\n54,Male,No,No,Yes,Yes,No,Yes,No,No,No,Yes,No,No,Yes,No,Negative\\r\\n43,Male,No,No,Yes,No,No,Yes,No,No,No,Yes,No,No,Yes,No,Negative\\r\\n33,Female,No,No,No,No,No,No,No,No,No,No,No,No,No,No,Negative\\r\\n55,Male,Yes,Yes,Yes,Yes,No,Yes,No,No,Yes,No,Yes,No,No,No,Positive\\r\\n48,Male,Yes,Yes,Yes,No,Yes,Yes,No,No,No,Yes,No,No,No,No,Positive\\r\\n56,Male,Yes,No,Yes,Yes,No,Yes,No,Yes,Yes,No,No,No,Yes,No,Positive\\r\\n38,Female,Yes,Yes,Yes,Yes,Yes,No,Yes,Yes,Yes,Yes,Yes,Yes,No,No,Positive\\r\\n28,Female,No,No,No,No,No,No,Yes,No,No,No,Yes,Yes,No,No,Positive\\r\\n68,Female,Yes,Yes,No,Yes,Yes,No,Yes,Yes,No,Yes,Yes,No,No,No,Positive\\r\\n35,Female,No,No,No,No,No,No,No,No,No,No,No,No,No,No,Positive\\r\\n45,Female,No,No,No,No,Yes,No,Yes,Yes,No,No,Yes,No,No,No,Positive\\r\\n48,Female,Yes,Yes,Yes,Yes,Yes,No,Yes,Yes,Yes,Yes,Yes,Yes,No,No,Positive\\r\\n40,Female,Yes,Yes,Yes,Yes,No,No,Yes,No,No,Yes,Yes,Yes,No,No,Positive\\r\\n57,Male,Yes,Yes,Yes,Yes,Yes,No,Yes,No,No,No,Yes,No,No,No,Positive\\r\\n47,Male,No,No,No,No,No,No,No,Yes,No,No,No,No,Yes,No,Negative\\r\\n45,Male,No,No,No,No,Yes,Yes,No,No,No,No,No,No,No,No,Negative\\r\\n57,Male,No,No,No,No,Yes,No,Yes,No,No,No,No,Yes,No,No,Negative\\r\\n72,Male,Yes,No,No,No,Yes,No,Yes,Yes,No,Yes,Yes,Yes,Yes,No,Negative\\r\\n30,Male,No,No,No,No,No,No,No,No,No,No,No,No,No,No,Negative\\r\\n27,Male,No,No,No,No,No,No,No,No,No,No,No,No,No,No,Negative\\r\\n38,Male,No,No,No,No,No,No,No,No,No,No,No,No,No,No,Negative\\r\\n43,Male,No,No,No,Yes,No,Yes,No,Yes,No,Yes,No,No,Yes,No,Negative\\r\\n40,Male,No,No,Yes,No,No,No,No,No,No,No,No,No,No,Yes,Negative\\r\\n47,Male,Yes,Yes,No,No,No,No,No,No,No,No,No,Yes,No,No,Positive\\r\\n62,Male,Yes,Yes,No,No,Yes,No,Yes,No,Yes,Yes,Yes,No,Yes,No,Positive\\r\\n49,Male,Yes,Yes,Yes,No,No,No,No,Yes,No,No,No,No,No,No,Positive\\r\\n53,Male,Yes,No,Yes,No,No,No,No,No,No,Yes,Yes,No,No,No,Positive\\r\\n68,Male,Yes,Yes,No,No,Yes,No,Yes,Yes,Yes,No,Yes,No,No,No,Positive\\r\\n61,Male,Yes,No,No,Yes,Yes,Yes,Yes,Yes,Yes,Yes,Yes,No,No,No,Positive\\r\\n39,Male,Yes,Yes,No,No,No,Yes,No,Yes,No,No,No,Yes,No,Yes,Positive\\r\\n38,Male,Yes,No,No,No,No,Yes,No,Yes,No,No,No,Yes,No,Yes,Positive\\r\\n44,Male,Yes,No,Yes,Yes,No,Yes,No,Yes,No,Yes,No,No,Yes,Yes,Negative\\r\\n36,Male,No,No,No,No,No,No,No,No,No,No,No,No,No,No,Negative\\r\\n43,Male,No,No,No,Yes,No,Yes,No,Yes,No,No,No,No,Yes,No,Negative\\r\\n53,Male,No,No,No,Yes,No,No,Yes,Yes,No,Yes,No,Yes,Yes,No,Negative\\r\\n47,Male,No,No,No,No,No,No,No,No,Yes,No,Yes,No,No,Yes,Negative\\r\\n58,Male,No,Yes,No,No,No,No,Yes,Yes,No,No,No,Yes,No,No,Negative\\r\\n56,Male,No,No,Yes,Yes,Yes,No,Yes,Yes,No,Yes,No,Yes,Yes,No,Negative\\r\\n51,Female,No,No,No,No,No,Yes,No,Yes,No,Yes,No,No,Yes,No,Negative\\r\\n59,Female,No,No,No,Yes,No,No,Yes,Yes,No,Yes,No,Yes,Yes,Yes,Negative\\r\\n50,Female,No,No,No,Yes,No,No,Yes,Yes,No,Yes,No,No,Yes,No,Negative\\r\\n30,Male,No,No,No,No,No,No,No,No,No,No,No,No,No,No,Negative\\r\\n46,Male,No,No,No,Yes,No,No,No,Yes,No,Yes,No,No,Yes,No,Negative\\r\\n53,Male,No,No,No,Yes,Yes,No,Yes,Yes,No,Yes,Yes,Yes,Yes,No,Negative\\r\\n64,Male,No,No,No,Yes,Yes,No,Yes,Yes,Yes,Yes,No,Yes,Yes,No,Negative\\r\\n44,Male,Yes,No,Yes,Yes,No,Yes,No,Yes,No,Yes,No,No,Yes,Yes,Negative\\r\\n36,Male,No,No,No,No,No,No,No,No,No,No,No,No,No,No,Negative\\r\\n43,Male,No,No,No,Yes,No,Yes,No,Yes,No,No,No,No,Yes,No,Negative\\r\\n53,Male,No,No,No,Yes,No,No,Yes,Yes,No,Yes,No,Yes,Yes,No,Negative\\r\\n47,Male,No,No,No,No,No,No,No,No,Yes,No,Yes,No,No,Yes,Negative\\r\\n58,Male,No,Yes,No,No,No,No,Yes,Yes,No,No,No,Yes,No,No,Negative\\r\\n56,Male,No,No,Yes,Yes,Yes,No,Yes,Yes,No,Yes,No,Yes,Yes,No,Negative\\r\\n51,Female,No,No,No,No,No,Yes,No,Yes,No,Yes,No,No,Yes,No,Negative\\r\\n59,Female,No,No,No,Yes,No,No,Yes,Yes,No,Yes,No,Yes,Yes,Yes,Negative\\r\\n50,Female,No,No,No,Yes,No,No,Yes,Yes,No,Yes,No,No,Yes,No,Negative\\r\\n30,Male,No,No,No,No,No,No,No,No,No,No,No,No,No,No,Negative\\r\\n46,Male,No,No,No,Yes,No,No,No,Yes,No,Yes,No,No,Yes,No,Negative\\r\\n53,Male,No,No,No,Yes,Yes,No,Yes,Yes,No,Yes,Yes,Yes,Yes,No,Negative\\r\\n42,Male,No,No,No,No,No,No,No,No,No,No,No,No,Yes,No,Negative\\r\\n55,Female,Yes,Yes,Yes,Yes,No,No,Yes,No,No,No,Yes,No,No,Yes,Positive\\r\\n48,Female,Yes,Yes,Yes,Yes,Yes,No,No,No,No,No,Yes,No,No,No,Positive\\r\\n55,Female,Yes,Yes,Yes,No,Yes,No,No,Yes,No,Yes,Yes,No,No,No,Positive\\r\\n39,Female,Yes,Yes,Yes,Yes,Yes,No,No,Yes,Yes,Yes,Yes,No,No,No,Positive\\r\\n43,Female,Yes,Yes,Yes,Yes,Yes,No,Yes,No,No,No,Yes,Yes,No,Yes,Positive\\r\\n35,Female,Yes,Yes,No,Yes,No,No,Yes,No,No,No,No,No,No,No,Positive\\r\\n47,Female,No,No,Yes,Yes,Yes,No,No,No,No,No,No,Yes,No,No,Positive\\r\\n61,Female,Yes,No,No,No,Yes,No,No,No,Yes,No,No,No,Yes,No,Positive\\r\\n67,Male,No,Yes,No,Yes,Yes,No,Yes,No,Yes,Yes,Yes,Yes,Yes,Yes,Positive\\r\\n66,Male,Yes,Yes,No,Yes,Yes,No,Yes,No,No,No,Yes,Yes,No,No,Positive\\r\\n43,Male,Yes,Yes,Yes,Yes,No,Yes,No,No,No,No,No,No,No,No,Positive\\r\\n62,Male,Yes,Yes,No,Yes,Yes,No,Yes,No,Yes,No,Yes,Yes,No,No,Positive\\r\\n54,Male,Yes,Yes,Yes,Yes,Yes,Yes,Yes,Yes,No,Yes,No,Yes,Yes,No,Positive\\r\\n39,Male,Yes,No,Yes,No,No,Yes,No,Yes,Yes,No,No,No,Yes,No,Positive\\r\\n48,Male,No,Yes,Yes,Yes,No,No,Yes,Yes,Yes,Yes,No,No,No,No,Positive\\r\\n58,Male,Yes,Yes,Yes,Yes,Yes,No,Yes,No,No,Yes,Yes,Yes,No,Yes,Positive\\r\\n32,Male,No,No,No,No,No,Yes,No,No,Yes,Yes,No,No,No,Yes,Positive\\r\\n42,Male,No,No,No,Yes,Yes,No,No,No,Yes,No,No,Yes,No,No,Positive\\r\\n52,Male,Yes,Yes,Yes,Yes,Yes,No,Yes,Yes,No,Yes,Yes,Yes,No,No,Positive\\r\\n38,Male,No,Yes,No,No,No,Yes,No,No,No,No,No,No,Yes,No,Positive\\r\\n53,Male,Yes,Yes,Yes,Yes,Yes,No,Yes,No,Yes,No,Yes,No,Yes,No,Positive\\r\\n57,Male,Yes,Yes,Yes,Yes,Yes,No,Yes,No,No,No,Yes,No,No,No,Positive\\r\\n41,Male,Yes,Yes,Yes,Yes,Yes,Yes,Yes,Yes,Yes,No,No,No,No,Yes,Positive\\r\\n37,Male,No,No,No,Yes,No,No,No,No,No,Yes,No,No,Yes,No,Positive\\r\\n54,Male,Yes,Yes,Yes,Yes,No,No,Yes,Yes,Yes,Yes,Yes,Yes,No,No,Positive\\r\\n49,Male,Yes,Yes,No,Yes,No,No,Yes,Yes,No,No,No,No,No,No,Positive\\r\\n48,Male,Yes,Yes,No,Yes,No,Yes,Yes,Yes,No,No,No,No,No,No,Positive\\r\\n60,Male,Yes,No,No,No,No,No,Yes,No,No,No,Yes,No,Yes,No,Positive\\r\\n63,Male,Yes,Yes,Yes,Yes,Yes,No,Yes,No,No,No,No,Yes,Yes,Yes,Positive\\r\\n35,Male,Yes,No,Yes,No,No,No,No,No,No,No,Yes,No,Yes,No,Positive\\r\\n30,Female,Yes,No,Yes,Yes,Yes,No,No,No,No,Yes,No,No,No,No,Positive\\r\\n53,Female,No,Yes,Yes,No,Yes,Yes,Yes,Yes,Yes,Yes,No,Yes,No,No,Positive\\r\\n50,Female,Yes,Yes,Yes,No,Yes,No,No,No,No,Yes,Yes,No,No,No,Positive\\r\\n50,Female,No,Yes,No,Yes,Yes,No,Yes,Yes,Yes,Yes,Yes,Yes,No,No,Positive\\r\\n35,Female,Yes,Yes,Yes,Yes,Yes,No,No,Yes,No,Yes,Yes,Yes,No,No,Positive\\r\\n40,Female,Yes,Yes,Yes,Yes,No,No,Yes,Yes,No,No,Yes,Yes,No,No,Positive\\r\\n48,Female,No,No,Yes,Yes,No,No,Yes,Yes,No,Yes,Yes,No,No,No,Positive\\r\\n60,Female,Yes,Yes,Yes,Yes,Yes,No,Yes,Yes,No,Yes,Yes,Yes,No,Yes,Positive\\r\\n38,Female,Yes,Yes,Yes,Yes,Yes,No,Yes,Yes,Yes,Yes,Yes,Yes,No,No,Positive\\r\\n28,Female,No,No,No,No,No,No,Yes,No,No,No,Yes,Yes,No,No,Positive\\r\\n68,Female,Yes,Yes,No,Yes,Yes,No,Yes,Yes,No,Yes,Yes,No,No,No,Positive\\r\\n35,Female,No,No,No,No,No,No,No,No,No,No,No,No,No,No,Positive\\r\\n45,Female,No,No,No,No,Yes,No,Yes,Yes,No,No,Yes,No,No,No,Positive\\r\\n48,Female,Yes,Yes,Yes,Yes,Yes,No,Yes,Yes,Yes,Yes,Yes,Yes,No,No,Positive\\r\\n40,Female,Yes,Yes,Yes,Yes,No,No,Yes,No,No,Yes,Yes,Yes,No,No,Positive\\r\\n57,Male,Yes,Yes,Yes,Yes,Yes,No,Yes,No,No,No,Yes,No,No,No,Positive\\r\\n47,Male,No,No,No,No,No,No,No,Yes,No,No,No,No,Yes,No,Negative\\r\\n45,Male,No,No,No,No,Yes,Yes,No,No,No,No,No,No,No,No,Negative\\r\\n57,Male,No,No,No,No,Yes,No,Yes,No,No,No,No,Yes,No,No,Negative\\r\\n72,Male,Yes,No,No,No,Yes,No,Yes,Yes,No,Yes,Yes,Yes,Yes,No,Negative\\r\\n30,Male,No,No,No,No,No,No,No,No,No,No,No,No,No,No,Negative\\r\\n27,Male,No,No,No,No,No,No,No,No,No,No,No,No,No,No,Negative\\r\\n38,Male,No,No,No,No,No,No,No,No,No,No,No,No,No,No,Negative\\r\\n43,Male,No,No,No,Yes,No,Yes,No,Yes,No,Yes,No,No,Yes,No,Negative\\r\\n40,Male,No,No,Yes,No,No,No,No,No,No,No,No,No,No,Yes,Negative\\r\\n47,Male,No,No,No,No,No,No,No,Yes,No,No,No,No,Yes,No,Negative\\r\\n45,Male,No,No,No,No,Yes,Yes,No,No,No,No,No,No,No,No,Negative\\r\\n57,Male,No,No,No,No,Yes,No,Yes,No,No,No,No,Yes,No,No,Negative\\r\\n72,Male,Yes,No,No,No,Yes,No,Yes,Yes,No,Yes,Yes,Yes,Yes,No,Negative\\r\\n30,Male,No,No,No,No,No,No,No,No,No,No,No,No,No,No,Negative\\r\\n27,Male,No,No,No,No,No,No,No,No,No,No,No,No,No,No,Negative\\r\\n38,Male,No,No,No,No,No,No,No,No,No,No,No,No,No,No,Negative\\r\\n43,Male,No,No,No,Yes,No,Yes,No,Yes,No,Yes,No,No,Yes,No,Negative\\r\\n40,Male,No,No,Yes,No,No,No,No,No,No,No,No,No,No,Yes,Negative\\r\\n54,Male,No,No,No,Yes,No,No,No,Yes,No,Yes,No,Yes,Yes,No,Negative\\r\\n30,Male,No,No,No,No,No,No,No,No,No,No,No,No,No,No,Negative\\r\\n46,Male,No,No,No,Yes,No,No,No,Yes,No,Yes,No,No,Yes,No,Negative\\r\\n53,Male,No,No,No,Yes,Yes,No,Yes,Yes,No,Yes,Yes,Yes,Yes,No,Negative\\r\\n42,Male,No,No,No,No,No,No,No,No,No,No,No,No,Yes,No,Negative\\r\\n55,Female,Yes,Yes,Yes,Yes,No,No,Yes,No,No,No,Yes,No,No,Yes,Positive\\r\\n48,Female,Yes,Yes,Yes,Yes,Yes,No,No,No,No,No,Yes,No,No,No,Positive\\r\\n55,Female,Yes,Yes,Yes,No,Yes,No,No,Yes,No,Yes,Yes,No,No,No,Positive\\r\\n39,Female,Yes,Yes,Yes,Yes,Yes,No,No,Yes,Yes,Yes,Yes,No,No,No,Positive\\r\\n43,Female,Yes,Yes,Yes,Yes,Yes,No,Yes,No,No,No,Yes,Yes,No,Yes,Positive\\r\\n50,Female,No,No,No,Yes,No,No,Yes,Yes,No,Yes,No,No,Yes,No,Negative\\r\\n30,Male,No,No,No,No,No,No,No,No,No,No,No,No,No,No,Negative\\r\\n46,Male,No,No,No,Yes,No,No,No,Yes,No,Yes,No,No,Yes,No,Negative\\r\\n53,Male,No,No,No,Yes,Yes,No,Yes,Yes,No,Yes,Yes,Yes,Yes,No,Negative\\r\\n64,Male,No,No,No,Yes,Yes,No,Yes,Yes,Yes,Yes,No,Yes,Yes,No,Negative\\r\\n44,Male,Yes,No,Yes,Yes,No,Yes,No,Yes,No,Yes,No,No,Yes,Yes,Negative\\r\\n36,Male,No,No,No,No,No,No,No,No,No,No,No,No,No,No,Negative\\r\\n43,Male,No,No,No,Yes,No,Yes,No,Yes,No,No,No,No,Yes,No,Negative\\r\\n53,Male,No,No,No,Yes,No,No,Yes,Yes,No,Yes,No,Yes,Yes,No,Negative\\r\\n47,Male,No,No,No,No,No,No,No,No,Yes,No,Yes,No,No,Yes,Negative\\r\\n68,Female,Yes,Yes,No,Yes,Yes,No,Yes,Yes,No,Yes,Yes,No,No,No,Positive\\r\\n64,Male,No,No,No,Yes,Yes,No,Yes,Yes,Yes,Yes,No,Yes,Yes,No,Negative\\r\\n66,Male,Yes,No,Yes,No,No,Yes,No,Yes,Yes,No,No,No,Yes,No,Positive\\r\\n67,Male,No,No,No,No,Yes,No,Yes,No,No,No,No,Yes,No,No,Negative\\r\\n70,Male,Yes,No,No,No,Yes,No,Yes,Yes,No,Yes,Yes,Yes,Yes,No,Negative\\r\\n44,Male,No,No,No,No,No,No,No,No,No,No,No,No,No,No,Negative\\r\\n38,Male,No,No,No,No,No,No,No,No,No,No,No,No,No,No,Negative\\r\\n35,Male,No,No,No,No,No,No,No,No,No,No,No,No,No,No,Negative\\r\\n61,Male,No,No,No,Yes,No,Yes,No,Yes,No,Yes,No,No,Yes,No,Negative\\r\\n60,Male,No,No,Yes,No,No,No,No,No,No,No,No,No,No,Yes,Negative\\r\\n58,Male,No,No,No,Yes,No,No,No,Yes,No,Yes,No,Yes,Yes,No,Negative\\r\\n54,Male,No,No,No,No,No,No,No,No,No,No,No,No,No,No,Negative\\r\\n67,Male,No,No,No,Yes,No,No,No,Yes,No,Yes,No,No,Yes,No,Negative\\r\\n66,Male,No,No,No,Yes,Yes,No,Yes,Yes,No,Yes,Yes,Yes,Yes,No,Negative\\r\\n43,Male,No,No,No,No,No,No,No,No,No,No,No,No,Yes,No,Negative\\r\\n62,Female,Yes,Yes,Yes,Yes,No,No,Yes,No,No,No,Yes,No,No,Yes,Positive\\r\\n54,Female,Yes,Yes,Yes,Yes,Yes,No,No,No,No,No,Yes,No,No,No,Positive\\r\\n39,Female,Yes,Yes,Yes,No,Yes,No,No,Yes,No,Yes,Yes,No,No,No,Positive\\r\\n48,Female,Yes,Yes,Yes,Yes,Yes,No,No,Yes,Yes,Yes,Yes,No,No,No,Positive\\r\\n58,Female,Yes,Yes,Yes,Yes,Yes,No,Yes,No,No,No,Yes,Yes,No,Yes,Positive\\r\\n32,Female,No,No,No,Yes,No,No,Yes,Yes,No,Yes,No,No,Yes,No,Negative\\r\\n42,Male,No,No,No,No,No,No,No,No,No,No,No,No,No,No,Negative\\r\\n'}"
            ]
          },
          "metadata": {
            "tags": []
          },
          "execution_count": 6
        }
      ]
    },
    {
      "cell_type": "code",
      "metadata": {
        "colab": {
          "base_uri": "https://localhost:8080/",
          "height": 413
        },
        "id": "90c83F-qCQap",
        "outputId": "6cd53071-557a-41d7-d87a-ec8fe3827cd9"
      },
      "source": [
        "# load dataset\n",
        "df = pd.read_csv('diabetes_data_upload.csv')\n",
        "df.head(10)"
      ],
      "execution_count": 7,
      "outputs": [
        {
          "output_type": "execute_result",
          "data": {
            "text/html": [
              "<div>\n",
              "<style scoped>\n",
              "    .dataframe tbody tr th:only-of-type {\n",
              "        vertical-align: middle;\n",
              "    }\n",
              "\n",
              "    .dataframe tbody tr th {\n",
              "        vertical-align: top;\n",
              "    }\n",
              "\n",
              "    .dataframe thead th {\n",
              "        text-align: right;\n",
              "    }\n",
              "</style>\n",
              "<table border=\"1\" class=\"dataframe\">\n",
              "  <thead>\n",
              "    <tr style=\"text-align: right;\">\n",
              "      <th></th>\n",
              "      <th>Age</th>\n",
              "      <th>Gender</th>\n",
              "      <th>Polyuria</th>\n",
              "      <th>Polydipsia</th>\n",
              "      <th>sudden weight loss</th>\n",
              "      <th>weakness</th>\n",
              "      <th>Polyphagia</th>\n",
              "      <th>Genital thrush</th>\n",
              "      <th>visual blurring</th>\n",
              "      <th>Itching</th>\n",
              "      <th>Irritability</th>\n",
              "      <th>delayed healing</th>\n",
              "      <th>partial paresis</th>\n",
              "      <th>muscle stiffness</th>\n",
              "      <th>Alopecia</th>\n",
              "      <th>Obesity</th>\n",
              "      <th>class</th>\n",
              "    </tr>\n",
              "  </thead>\n",
              "  <tbody>\n",
              "    <tr>\n",
              "      <th>0</th>\n",
              "      <td>40</td>\n",
              "      <td>Male</td>\n",
              "      <td>No</td>\n",
              "      <td>Yes</td>\n",
              "      <td>No</td>\n",
              "      <td>Yes</td>\n",
              "      <td>No</td>\n",
              "      <td>No</td>\n",
              "      <td>No</td>\n",
              "      <td>Yes</td>\n",
              "      <td>No</td>\n",
              "      <td>Yes</td>\n",
              "      <td>No</td>\n",
              "      <td>Yes</td>\n",
              "      <td>Yes</td>\n",
              "      <td>Yes</td>\n",
              "      <td>Positive</td>\n",
              "    </tr>\n",
              "    <tr>\n",
              "      <th>1</th>\n",
              "      <td>58</td>\n",
              "      <td>Male</td>\n",
              "      <td>No</td>\n",
              "      <td>No</td>\n",
              "      <td>No</td>\n",
              "      <td>Yes</td>\n",
              "      <td>No</td>\n",
              "      <td>No</td>\n",
              "      <td>Yes</td>\n",
              "      <td>No</td>\n",
              "      <td>No</td>\n",
              "      <td>No</td>\n",
              "      <td>Yes</td>\n",
              "      <td>No</td>\n",
              "      <td>Yes</td>\n",
              "      <td>No</td>\n",
              "      <td>Positive</td>\n",
              "    </tr>\n",
              "    <tr>\n",
              "      <th>2</th>\n",
              "      <td>41</td>\n",
              "      <td>Male</td>\n",
              "      <td>Yes</td>\n",
              "      <td>No</td>\n",
              "      <td>No</td>\n",
              "      <td>Yes</td>\n",
              "      <td>Yes</td>\n",
              "      <td>No</td>\n",
              "      <td>No</td>\n",
              "      <td>Yes</td>\n",
              "      <td>No</td>\n",
              "      <td>Yes</td>\n",
              "      <td>No</td>\n",
              "      <td>Yes</td>\n",
              "      <td>Yes</td>\n",
              "      <td>No</td>\n",
              "      <td>Positive</td>\n",
              "    </tr>\n",
              "    <tr>\n",
              "      <th>3</th>\n",
              "      <td>45</td>\n",
              "      <td>Male</td>\n",
              "      <td>No</td>\n",
              "      <td>No</td>\n",
              "      <td>Yes</td>\n",
              "      <td>Yes</td>\n",
              "      <td>Yes</td>\n",
              "      <td>Yes</td>\n",
              "      <td>No</td>\n",
              "      <td>Yes</td>\n",
              "      <td>No</td>\n",
              "      <td>Yes</td>\n",
              "      <td>No</td>\n",
              "      <td>No</td>\n",
              "      <td>No</td>\n",
              "      <td>No</td>\n",
              "      <td>Positive</td>\n",
              "    </tr>\n",
              "    <tr>\n",
              "      <th>4</th>\n",
              "      <td>60</td>\n",
              "      <td>Male</td>\n",
              "      <td>Yes</td>\n",
              "      <td>Yes</td>\n",
              "      <td>Yes</td>\n",
              "      <td>Yes</td>\n",
              "      <td>Yes</td>\n",
              "      <td>No</td>\n",
              "      <td>Yes</td>\n",
              "      <td>Yes</td>\n",
              "      <td>Yes</td>\n",
              "      <td>Yes</td>\n",
              "      <td>Yes</td>\n",
              "      <td>Yes</td>\n",
              "      <td>Yes</td>\n",
              "      <td>Yes</td>\n",
              "      <td>Positive</td>\n",
              "    </tr>\n",
              "    <tr>\n",
              "      <th>5</th>\n",
              "      <td>55</td>\n",
              "      <td>Male</td>\n",
              "      <td>Yes</td>\n",
              "      <td>Yes</td>\n",
              "      <td>No</td>\n",
              "      <td>Yes</td>\n",
              "      <td>Yes</td>\n",
              "      <td>No</td>\n",
              "      <td>Yes</td>\n",
              "      <td>Yes</td>\n",
              "      <td>No</td>\n",
              "      <td>Yes</td>\n",
              "      <td>No</td>\n",
              "      <td>Yes</td>\n",
              "      <td>Yes</td>\n",
              "      <td>Yes</td>\n",
              "      <td>Positive</td>\n",
              "    </tr>\n",
              "    <tr>\n",
              "      <th>6</th>\n",
              "      <td>57</td>\n",
              "      <td>Male</td>\n",
              "      <td>Yes</td>\n",
              "      <td>Yes</td>\n",
              "      <td>No</td>\n",
              "      <td>Yes</td>\n",
              "      <td>Yes</td>\n",
              "      <td>Yes</td>\n",
              "      <td>No</td>\n",
              "      <td>No</td>\n",
              "      <td>No</td>\n",
              "      <td>Yes</td>\n",
              "      <td>Yes</td>\n",
              "      <td>No</td>\n",
              "      <td>No</td>\n",
              "      <td>No</td>\n",
              "      <td>Positive</td>\n",
              "    </tr>\n",
              "    <tr>\n",
              "      <th>7</th>\n",
              "      <td>66</td>\n",
              "      <td>Male</td>\n",
              "      <td>Yes</td>\n",
              "      <td>Yes</td>\n",
              "      <td>Yes</td>\n",
              "      <td>Yes</td>\n",
              "      <td>No</td>\n",
              "      <td>No</td>\n",
              "      <td>Yes</td>\n",
              "      <td>Yes</td>\n",
              "      <td>Yes</td>\n",
              "      <td>No</td>\n",
              "      <td>Yes</td>\n",
              "      <td>Yes</td>\n",
              "      <td>No</td>\n",
              "      <td>No</td>\n",
              "      <td>Positive</td>\n",
              "    </tr>\n",
              "    <tr>\n",
              "      <th>8</th>\n",
              "      <td>67</td>\n",
              "      <td>Male</td>\n",
              "      <td>Yes</td>\n",
              "      <td>Yes</td>\n",
              "      <td>No</td>\n",
              "      <td>Yes</td>\n",
              "      <td>Yes</td>\n",
              "      <td>Yes</td>\n",
              "      <td>No</td>\n",
              "      <td>Yes</td>\n",
              "      <td>Yes</td>\n",
              "      <td>No</td>\n",
              "      <td>Yes</td>\n",
              "      <td>Yes</td>\n",
              "      <td>No</td>\n",
              "      <td>Yes</td>\n",
              "      <td>Positive</td>\n",
              "    </tr>\n",
              "    <tr>\n",
              "      <th>9</th>\n",
              "      <td>70</td>\n",
              "      <td>Male</td>\n",
              "      <td>No</td>\n",
              "      <td>Yes</td>\n",
              "      <td>Yes</td>\n",
              "      <td>Yes</td>\n",
              "      <td>Yes</td>\n",
              "      <td>No</td>\n",
              "      <td>Yes</td>\n",
              "      <td>Yes</td>\n",
              "      <td>Yes</td>\n",
              "      <td>No</td>\n",
              "      <td>No</td>\n",
              "      <td>No</td>\n",
              "      <td>Yes</td>\n",
              "      <td>No</td>\n",
              "      <td>Positive</td>\n",
              "    </tr>\n",
              "  </tbody>\n",
              "</table>\n",
              "</div>"
            ],
            "text/plain": [
              "   Age Gender Polyuria Polydipsia  ... muscle stiffness Alopecia Obesity     class\n",
              "0   40   Male       No        Yes  ...              Yes      Yes     Yes  Positive\n",
              "1   58   Male       No         No  ...               No      Yes      No  Positive\n",
              "2   41   Male      Yes         No  ...              Yes      Yes      No  Positive\n",
              "3   45   Male       No         No  ...               No       No      No  Positive\n",
              "4   60   Male      Yes        Yes  ...              Yes      Yes     Yes  Positive\n",
              "5   55   Male      Yes        Yes  ...              Yes      Yes     Yes  Positive\n",
              "6   57   Male      Yes        Yes  ...               No       No      No  Positive\n",
              "7   66   Male      Yes        Yes  ...              Yes       No      No  Positive\n",
              "8   67   Male      Yes        Yes  ...              Yes       No     Yes  Positive\n",
              "9   70   Male       No        Yes  ...               No      Yes      No  Positive\n",
              "\n",
              "[10 rows x 17 columns]"
            ]
          },
          "metadata": {
            "tags": []
          },
          "execution_count": 7
        }
      ]
    },
    {
      "cell_type": "code",
      "metadata": {
        "colab": {
          "base_uri": "https://localhost:8080/"
        },
        "id": "kq4RhtgLC32A",
        "outputId": "bbfde9c4-eee9-498b-e448-e7f3f9fed589"
      },
      "source": [
        "# total data\n",
        "df.shape"
      ],
      "execution_count": 8,
      "outputs": [
        {
          "output_type": "execute_result",
          "data": {
            "text/plain": [
              "(520, 17)"
            ]
          },
          "metadata": {
            "tags": []
          },
          "execution_count": 8
        }
      ]
    },
    {
      "cell_type": "code",
      "metadata": {
        "colab": {
          "base_uri": "https://localhost:8080/",
          "height": 351
        },
        "id": "dBPk3dmlLpzM",
        "outputId": "6dc9c541-ecda-4ae0-9814-ef66e2f12edd"
      },
      "source": [
        "X1.describe()"
      ],
      "execution_count": 43,
      "outputs": [
        {
          "output_type": "execute_result",
          "data": {
            "text/html": [
              "<div>\n",
              "<style scoped>\n",
              "    .dataframe tbody tr th:only-of-type {\n",
              "        vertical-align: middle;\n",
              "    }\n",
              "\n",
              "    .dataframe tbody tr th {\n",
              "        vertical-align: top;\n",
              "    }\n",
              "\n",
              "    .dataframe thead th {\n",
              "        text-align: right;\n",
              "    }\n",
              "</style>\n",
              "<table border=\"1\" class=\"dataframe\">\n",
              "  <thead>\n",
              "    <tr style=\"text-align: right;\">\n",
              "      <th></th>\n",
              "      <th>Age</th>\n",
              "      <th>Gender</th>\n",
              "      <th>Polyuria</th>\n",
              "      <th>Polydipsia</th>\n",
              "      <th>sudden weight loss</th>\n",
              "      <th>weakness</th>\n",
              "      <th>Polyphagia</th>\n",
              "      <th>Genital thrush</th>\n",
              "      <th>visual blurring</th>\n",
              "      <th>Itching</th>\n",
              "      <th>Irritability</th>\n",
              "      <th>delayed healing</th>\n",
              "      <th>partial paresis</th>\n",
              "      <th>muscle stiffness</th>\n",
              "      <th>Alopecia</th>\n",
              "      <th>Obesity</th>\n",
              "    </tr>\n",
              "  </thead>\n",
              "  <tbody>\n",
              "    <tr>\n",
              "      <th>count</th>\n",
              "      <td>520.000000</td>\n",
              "      <td>520.000000</td>\n",
              "      <td>520.000000</td>\n",
              "      <td>520.000000</td>\n",
              "      <td>520.000000</td>\n",
              "      <td>520.000000</td>\n",
              "      <td>520.000000</td>\n",
              "      <td>520.000000</td>\n",
              "      <td>520.000000</td>\n",
              "      <td>520.000000</td>\n",
              "      <td>520.000000</td>\n",
              "      <td>520.000000</td>\n",
              "      <td>520.000000</td>\n",
              "      <td>520.000000</td>\n",
              "      <td>520.000000</td>\n",
              "      <td>520.000000</td>\n",
              "    </tr>\n",
              "    <tr>\n",
              "      <th>mean</th>\n",
              "      <td>48.028846</td>\n",
              "      <td>0.630769</td>\n",
              "      <td>0.496154</td>\n",
              "      <td>0.448077</td>\n",
              "      <td>0.417308</td>\n",
              "      <td>0.586538</td>\n",
              "      <td>0.455769</td>\n",
              "      <td>0.223077</td>\n",
              "      <td>0.448077</td>\n",
              "      <td>0.486538</td>\n",
              "      <td>0.242308</td>\n",
              "      <td>0.459615</td>\n",
              "      <td>0.430769</td>\n",
              "      <td>0.375000</td>\n",
              "      <td>0.344231</td>\n",
              "      <td>0.169231</td>\n",
              "    </tr>\n",
              "    <tr>\n",
              "      <th>std</th>\n",
              "      <td>12.151466</td>\n",
              "      <td>0.483061</td>\n",
              "      <td>0.500467</td>\n",
              "      <td>0.497776</td>\n",
              "      <td>0.493589</td>\n",
              "      <td>0.492928</td>\n",
              "      <td>0.498519</td>\n",
              "      <td>0.416710</td>\n",
              "      <td>0.497776</td>\n",
              "      <td>0.500300</td>\n",
              "      <td>0.428892</td>\n",
              "      <td>0.498846</td>\n",
              "      <td>0.495661</td>\n",
              "      <td>0.484589</td>\n",
              "      <td>0.475574</td>\n",
              "      <td>0.375317</td>\n",
              "    </tr>\n",
              "    <tr>\n",
              "      <th>min</th>\n",
              "      <td>16.000000</td>\n",
              "      <td>0.000000</td>\n",
              "      <td>0.000000</td>\n",
              "      <td>0.000000</td>\n",
              "      <td>0.000000</td>\n",
              "      <td>0.000000</td>\n",
              "      <td>0.000000</td>\n",
              "      <td>0.000000</td>\n",
              "      <td>0.000000</td>\n",
              "      <td>0.000000</td>\n",
              "      <td>0.000000</td>\n",
              "      <td>0.000000</td>\n",
              "      <td>0.000000</td>\n",
              "      <td>0.000000</td>\n",
              "      <td>0.000000</td>\n",
              "      <td>0.000000</td>\n",
              "    </tr>\n",
              "    <tr>\n",
              "      <th>25%</th>\n",
              "      <td>39.000000</td>\n",
              "      <td>0.000000</td>\n",
              "      <td>0.000000</td>\n",
              "      <td>0.000000</td>\n",
              "      <td>0.000000</td>\n",
              "      <td>0.000000</td>\n",
              "      <td>0.000000</td>\n",
              "      <td>0.000000</td>\n",
              "      <td>0.000000</td>\n",
              "      <td>0.000000</td>\n",
              "      <td>0.000000</td>\n",
              "      <td>0.000000</td>\n",
              "      <td>0.000000</td>\n",
              "      <td>0.000000</td>\n",
              "      <td>0.000000</td>\n",
              "      <td>0.000000</td>\n",
              "    </tr>\n",
              "    <tr>\n",
              "      <th>50%</th>\n",
              "      <td>47.500000</td>\n",
              "      <td>1.000000</td>\n",
              "      <td>0.000000</td>\n",
              "      <td>0.000000</td>\n",
              "      <td>0.000000</td>\n",
              "      <td>1.000000</td>\n",
              "      <td>0.000000</td>\n",
              "      <td>0.000000</td>\n",
              "      <td>0.000000</td>\n",
              "      <td>0.000000</td>\n",
              "      <td>0.000000</td>\n",
              "      <td>0.000000</td>\n",
              "      <td>0.000000</td>\n",
              "      <td>0.000000</td>\n",
              "      <td>0.000000</td>\n",
              "      <td>0.000000</td>\n",
              "    </tr>\n",
              "    <tr>\n",
              "      <th>75%</th>\n",
              "      <td>57.000000</td>\n",
              "      <td>1.000000</td>\n",
              "      <td>1.000000</td>\n",
              "      <td>1.000000</td>\n",
              "      <td>1.000000</td>\n",
              "      <td>1.000000</td>\n",
              "      <td>1.000000</td>\n",
              "      <td>0.000000</td>\n",
              "      <td>1.000000</td>\n",
              "      <td>1.000000</td>\n",
              "      <td>0.000000</td>\n",
              "      <td>1.000000</td>\n",
              "      <td>1.000000</td>\n",
              "      <td>1.000000</td>\n",
              "      <td>1.000000</td>\n",
              "      <td>0.000000</td>\n",
              "    </tr>\n",
              "    <tr>\n",
              "      <th>max</th>\n",
              "      <td>90.000000</td>\n",
              "      <td>1.000000</td>\n",
              "      <td>1.000000</td>\n",
              "      <td>1.000000</td>\n",
              "      <td>1.000000</td>\n",
              "      <td>1.000000</td>\n",
              "      <td>1.000000</td>\n",
              "      <td>1.000000</td>\n",
              "      <td>1.000000</td>\n",
              "      <td>1.000000</td>\n",
              "      <td>1.000000</td>\n",
              "      <td>1.000000</td>\n",
              "      <td>1.000000</td>\n",
              "      <td>1.000000</td>\n",
              "      <td>1.000000</td>\n",
              "      <td>1.000000</td>\n",
              "    </tr>\n",
              "  </tbody>\n",
              "</table>\n",
              "</div>"
            ],
            "text/plain": [
              "              Age      Gender  ...    Alopecia     Obesity\n",
              "count  520.000000  520.000000  ...  520.000000  520.000000\n",
              "mean    48.028846    0.630769  ...    0.344231    0.169231\n",
              "std     12.151466    0.483061  ...    0.475574    0.375317\n",
              "min     16.000000    0.000000  ...    0.000000    0.000000\n",
              "25%     39.000000    0.000000  ...    0.000000    0.000000\n",
              "50%     47.500000    1.000000  ...    0.000000    0.000000\n",
              "75%     57.000000    1.000000  ...    1.000000    0.000000\n",
              "max     90.000000    1.000000  ...    1.000000    1.000000\n",
              "\n",
              "[8 rows x 16 columns]"
            ]
          },
          "metadata": {
            "tags": []
          },
          "execution_count": 43
        }
      ]
    },
    {
      "cell_type": "code",
      "metadata": {
        "colab": {
          "base_uri": "https://localhost:8080/",
          "height": 373
        },
        "id": "Do3aY7qmDqxR",
        "outputId": "a88be7aa-f9ac-4a07-e238-faad20461f93"
      },
      "source": [
        "sns.heatmap(df.isnull())"
      ],
      "execution_count": 9,
      "outputs": [
        {
          "output_type": "execute_result",
          "data": {
            "text/plain": [
              "<matplotlib.axes._subplots.AxesSubplot at 0x7f2c0c5d8110>"
            ]
          },
          "metadata": {
            "tags": []
          },
          "execution_count": 9
        },
        {
          "output_type": "display_data",
          "data": {
            "image/png": "[encoded data removed]",
            "text/plain": [
              "<Figure size 432x288 with 2 Axes>"
            ]
          },
          "metadata": {
            "tags": [],
            "needs_background": "light"
          }
        }
      ]
    },
    {
      "cell_type": "code",
      "metadata": {
        "colab": {
          "base_uri": "https://localhost:8080/"
        },
        "id": "qAF4ZLs205pT",
        "outputId": "73a5d2fb-e7bb-427c-846c-187523e99006"
      },
      "source": [
        "df['class'].value_counts()"
      ],
      "execution_count": 10,
      "outputs": [
        {
          "output_type": "execute_result",
          "data": {
            "text/plain": [
              "Positive    320\n",
              "Negative    200\n",
              "Name: class, dtype: int64"
            ]
          },
          "metadata": {
            "tags": []
          },
          "execution_count": 10
        }
      ]
    },
    {
      "cell_type": "code",
      "metadata": {
        "colab": {
          "base_uri": "https://localhost:8080/"
        },
        "id": "SAHHczA3HZ4_",
        "outputId": "4dcd5eeb-49b8-4792-acb8-0c04a9d6b6d1"
      },
      "source": [
        "df['Gender'].value_counts()"
      ],
      "execution_count": 40,
      "outputs": [
        {
          "output_type": "execute_result",
          "data": {
            "text/plain": [
              "1    328\n",
              "0    192\n",
              "Name: Gender, dtype: int64"
            ]
          },
          "metadata": {
            "tags": []
          },
          "execution_count": 40
        }
      ]
    },
    {
      "cell_type": "code",
      "metadata": {
        "colab": {
          "base_uri": "https://localhost:8080/"
        },
        "id": "SKmhoKaMHogW",
        "outputId": "581df170-3375-44af-9e2d-cddb33983957"
      },
      "source": [
        "df['Obesity'].value_counts()"
      ],
      "execution_count": 41,
      "outputs": [
        {
          "output_type": "execute_result",
          "data": {
            "text/plain": [
              "0    432\n",
              "1     88\n",
              "Name: Obesity, dtype: int64"
            ]
          },
          "metadata": {
            "tags": []
          },
          "execution_count": 41
        }
      ]
    },
    {
      "cell_type": "code",
      "metadata": {
        "id": "0LrD0lbL1J0B"
      },
      "source": [
        "df['Gender'] = df['Gender'].map({'Male':1,'Female':0})\n",
        "df['Polyuria'] = df['Polyuria'].map({'Yes':1,'No':0})\n",
        "df['Polydipsia'] = df['Polydipsia'].map({'Yes':1,'No':0})\n",
        "df['sudden weight loss'] = df['sudden weight loss'].map({'Yes':1,'No':0})\n",
        "df['weakness'] = df['weakness'].map({'Yes':1,'No':0})\n",
        "df['Polyphagia'] = df['Polyphagia'].map({'Yes':1,'No':0})\n",
        "df['Genital thrush'] = df['Genital thrush'].map({'Yes':1,'No':0})\n",
        "df['visual blurring'] = df['visual blurring'].map({'Yes':1,'No':0})\n",
        "df['Itching'] = df['Itching'].map({'Yes':1,'No':0})\n",
        "df['Irritability'] = df['Irritability'].map({'Yes':1,'No':0})\n",
        "df['delayed healing'] = df['delayed healing'].map({'Yes':1,'No':0})\n",
        "df['partial paresis'] = df['partial paresis'].map({'Yes':1,'No':0})\n",
        "df['muscle stiffness'] = df['muscle stiffness'].map({'Yes':1,'No':0})\n",
        "df['Alopecia'] = df['Alopecia'].map({'Yes':1,'No':0})\n",
        "df['Obesity'] = df['Obesity'].map({'Yes':1,'No':0})\n",
        "df['class'] = df['class'].map({'Positive':1,'Negative':0})"
      ],
      "execution_count": 11,
      "outputs": []
    },
    {
      "cell_type": "code",
      "metadata": {
        "id": "arX1X7VN2bDf"
      },
      "source": [
        "corrdata = df.corr()"
      ],
      "execution_count": 12,
      "outputs": []
    },
    {
      "cell_type": "code",
      "metadata": {
        "colab": {
          "base_uri": "https://localhost:8080/",
          "height": 558
        },
        "id": "d3i20nV22fwS",
        "outputId": "804ffc16-6219-4e12-8c95-e2c20a3e106e"
      },
      "source": [
        "ax,fig = plt.subplots(figsize=(15,8))\n",
        "sns.heatmap(corrdata,annot=True)"
      ],
      "execution_count": 13,
      "outputs": [
        {
          "output_type": "execute_result",
          "data": {
            "text/plain": [
              "<matplotlib.axes._subplots.AxesSubplot at 0x7f2c04470d50>"
            ]
          },
          "metadata": {
            "tags": []
          },
          "execution_count": 13
        },
        {
          "output_type": "display_data",
          "data": {
            "image/png": "[encoded data removed]",
            "text/plain": [
              "<Figure size 1080x576 with 2 Axes>"
            ]
          },
          "metadata": {
            "tags": [],
            "needs_background": "light"
          }
        }
      ]
    },
    {
      "cell_type": "code",
      "metadata": {
        "colab": {
          "base_uri": "https://localhost:8080/",
          "height": 350
        },
        "id": "Sv_q3MTU2kX-",
        "outputId": "19d5477e-42ce-47f1-d321-681cf3811995"
      },
      "source": [
        "sns.distplot(df['Age'],bins=30) "
      ],
      "execution_count": 14,
      "outputs": [
        {
          "output_type": "stream",
          "text": [
            "/usr/local/lib/python3.7/dist-packages/seaborn/distributions.py:2557: FutureWarning: `distplot` is a deprecated function and will be removed in a future version. Please adapt your code to use either `displot` (a figure-level function with similar flexibility) or `histplot` (an axes-level function for histograms).\n",
            "  warnings.warn(msg, FutureWarning)\n"
          ],
          "name": "stderr"
        },
        {
          "output_type": "execute_result",
          "data": {
            "text/plain": [
              "<matplotlib.axes._subplots.AxesSubplot at 0x7f2c03c4a790>"
            ]
          },
          "metadata": {
            "tags": []
          },
          "execution_count": 14
        },
        {
          "output_type": "display_data",
          "data": {
            "image/png": "[encoded data removed]",
            "text/plain": [
              "<Figure size 432x288 with 1 Axes>"
            ]
          },
          "metadata": {
            "tags": [],
            "needs_background": "light"
          }
        }
      ]
    },
    {
      "cell_type": "code",
      "metadata": {
        "colab": {
          "base_uri": "https://localhost:8080/",
          "height": 296
        },
        "id": "rCQTJYOC2q4N",
        "outputId": "4373b084-6d18-4ff1-a385-ffb09d35278b"
      },
      "source": [
        "sns.barplot(x='class',y='Age',data=df)"
      ],
      "execution_count": 45,
      "outputs": [
        {
          "output_type": "execute_result",
          "data": {
            "text/plain": [
              "<matplotlib.axes._subplots.AxesSubplot at 0x7f2bf7775410>"
            ]
          },
          "metadata": {
            "tags": []
          },
          "execution_count": 45
        },
        {
          "output_type": "display_data",
          "data": {
            "image/png": "[encoded data removed]",
            "text/plain": [
              "<Figure size 432x288 with 1 Axes>"
            ]
          },
          "metadata": {
            "tags": [],
            "needs_background": "light"
          }
        }
      ]
    },
    {
      "cell_type": "code",
      "metadata": {
        "colab": {
          "base_uri": "https://localhost:8080/",
          "height": 248
        },
        "id": "fbVvHqIn2wQM",
        "outputId": "196eafd1-7f16-46f5-d44d-1ac95a0534b9"
      },
      "source": [
        "ds = df['class'].value_counts().reset_index()\n",
        "ds.columns = ['class', 'count']\n",
        "plot=ds.plot.pie(y='count')"
      ],
      "execution_count": 16,
      "outputs": [
        {
          "output_type": "display_data",
          "data": {
            "image/png": "[encoded data removed]",
            "text/plain": [
              "<Figure size 432x288 with 1 Axes>"
            ]
          },
          "metadata": {
            "tags": []
          }
        }
      ]
    },
    {
      "cell_type": "code",
      "metadata": {
        "colab": {
          "base_uri": "https://localhost:8080/",
          "height": 296
        },
        "id": "y__IMU4V21o1",
        "outputId": "3f19f464-f604-4c63-bf32-e44783804bee"
      },
      "source": [
        "sns.countplot(x='class',data=df,hue='Gender')"
      ],
      "execution_count": 17,
      "outputs": [
        {
          "output_type": "execute_result",
          "data": {
            "text/plain": [
              "<matplotlib.axes._subplots.AxesSubplot at 0x7f2bff049b90>"
            ]
          },
          "metadata": {
            "tags": []
          },
          "execution_count": 17
        },
        {
          "output_type": "display_data",
          "data": {
            "image/png": "[encoded data removed]",
            "text/plain": [
              "<Figure size 432x288 with 1 Axes>"
            ]
          },
          "metadata": {
            "tags": [],
            "needs_background": "light"
          }
        }
      ]
    },
    {
      "cell_type": "code",
      "metadata": {
        "colab": {
          "base_uri": "https://localhost:8080/",
          "height": 400
        },
        "id": "yR_yIujA262I",
        "outputId": "96155bfa-f6cb-4f02-df64-8dd70b9120f7"
      },
      "source": [
        "sns.catplot(x=\"Polyuria\", y=\"class\", kind=\"point\", data=df)"
      ],
      "execution_count": 18,
      "outputs": [
        {
          "output_type": "execute_result",
          "data": {
            "text/plain": [
              "<seaborn.axisgrid.FacetGrid at 0x7f2bff0aca50>"
            ]
          },
          "metadata": {
            "tags": []
          },
          "execution_count": 18
        },
        {
          "output_type": "display_data",
          "data": {
            "image/png": "[encoded data removed]",
            "text/plain": [
              "<Figure size 360x360 with 1 Axes>"
            ]
          },
          "metadata": {
            "tags": [],
            "needs_background": "light"
          }
        }
      ]
    },
    {
      "cell_type": "code",
      "metadata": {
        "colab": {
          "base_uri": "https://localhost:8080/",
          "height": 296
        },
        "id": "avdOdZzF2_1k",
        "outputId": "0ba66cae-8ca7-4988-e34e-7acea9de84e6"
      },
      "source": [
        "sns.barplot(x='Polydipsia',y='class',data=df)"
      ],
      "execution_count": 19,
      "outputs": [
        {
          "output_type": "execute_result",
          "data": {
            "text/plain": [
              "<matplotlib.axes._subplots.AxesSubplot at 0x7f2bfeff5650>"
            ]
          },
          "metadata": {
            "tags": []
          },
          "execution_count": 19
        },
        {
          "output_type": "display_data",
          "data": {
            "image/png": "[encoded data removed]",
            "text/plain": [
              "<Figure size 432x288 with 1 Axes>"
            ]
          },
          "metadata": {
            "tags": [],
            "needs_background": "light"
          }
        }
      ]
    },
    {
      "cell_type": "code",
      "metadata": {
        "colab": {
          "base_uri": "https://localhost:8080/",
          "height": 296
        },
        "id": "gkjmD5UT3ECG",
        "outputId": "0034c4dd-0778-4534-85f2-8de519ad3a20"
      },
      "source": [
        "sns.countplot(x='class',data=df,hue='sudden weight loss')"
      ],
      "execution_count": 23,
      "outputs": [
        {
          "output_type": "execute_result",
          "data": {
            "text/plain": [
              "<matplotlib.axes._subplots.AxesSubplot at 0x7f2bfeeafed0>"
            ]
          },
          "metadata": {
            "tags": []
          },
          "execution_count": 23
        },
        {
          "output_type": "display_data",
          "data": {
            "image/png": "[encoded data removed]",
            "text/plain": [
              "<Figure size 432x288 with 1 Axes>"
            ]
          },
          "metadata": {
            "tags": [],
            "needs_background": "light"
          }
        }
      ]
    },
    {
      "cell_type": "code",
      "metadata": {
        "colab": {
          "base_uri": "https://localhost:8080/",
          "height": 296
        },
        "id": "UeO4oASd3In4",
        "outputId": "8268a4dc-ba7d-4e1a-ac9c-d74b0da79642"
      },
      "source": [
        "sns.countplot(x='class',data=df, hue='Polyphagia')"
      ],
      "execution_count": 24,
      "outputs": [
        {
          "output_type": "execute_result",
          "data": {
            "text/plain": [
              "<matplotlib.axes._subplots.AxesSubplot at 0x7f2bfee37090>"
            ]
          },
          "metadata": {
            "tags": []
          },
          "execution_count": 24
        },
        {
          "output_type": "display_data",
          "data": {
            "image/png": "[encoded data removed]",
            "text/plain": [
              "<Figure size 432x288 with 1 Axes>"
            ]
          },
          "metadata": {
            "tags": [],
            "needs_background": "light"
          }
        }
      ]
    },
    {
      "cell_type": "code",
      "metadata": {
        "colab": {
          "base_uri": "https://localhost:8080/",
          "height": 296
        },
        "id": "67x7sd933Ohr",
        "outputId": "02a4a879-2110-4c7f-cf0d-f3518c773de1"
      },
      "source": [
        "sns.barplot(x='Polyphagia',y='class',data=df)"
      ],
      "execution_count": 25,
      "outputs": [
        {
          "output_type": "execute_result",
          "data": {
            "text/plain": [
              "<matplotlib.axes._subplots.AxesSubplot at 0x7f2bfecc5c90>"
            ]
          },
          "metadata": {
            "tags": []
          },
          "execution_count": 25
        },
        {
          "output_type": "display_data",
          "data": {
            "image/png": "[encoded data removed]",
            "text/plain": [
              "<Figure size 432x288 with 1 Axes>"
            ]
          },
          "metadata": {
            "tags": [],
            "needs_background": "light"
          }
        }
      ]
    },
    {
      "cell_type": "code",
      "metadata": {
        "colab": {
          "base_uri": "https://localhost:8080/",
          "height": 400
        },
        "id": "5SAMUv7M3UoR",
        "outputId": "fd05e1d2-b531-45e5-93ca-17248e377496"
      },
      "source": [
        "sns.catplot(x='class',y='Genital thrush',kind='point',data=df)"
      ],
      "execution_count": 26,
      "outputs": [
        {
          "output_type": "execute_result",
          "data": {
            "text/plain": [
              "<seaborn.axisgrid.FacetGrid at 0x7f2bfec8a490>"
            ]
          },
          "metadata": {
            "tags": []
          },
          "execution_count": 26
        },
        {
          "output_type": "display_data",
          "data": {
            "image/png": "[encoded data removed]",
            "text/plain": [
              "<Figure size 360x360 with 1 Axes>"
            ]
          },
          "metadata": {
            "tags": [],
            "needs_background": "light"
          }
        }
      ]
    },
    {
      "cell_type": "code",
      "metadata": {
        "colab": {
          "base_uri": "https://localhost:8080/",
          "height": 296
        },
        "id": "1OHfeCR63aKM",
        "outputId": "f61e81ff-1a78-423c-d491-b37753383cec"
      },
      "source": [
        "sns.barplot(x='class',y='partial paresis',data=df)"
      ],
      "execution_count": 27,
      "outputs": [
        {
          "output_type": "execute_result",
          "data": {
            "text/plain": [
              "<matplotlib.axes._subplots.AxesSubplot at 0x7f2bfec2ec50>"
            ]
          },
          "metadata": {
            "tags": []
          },
          "execution_count": 27
        },
        {
          "output_type": "display_data",
          "data": {
            "image/png": "[encoded data removed]",
            "text/plain": [
              "<Figure size 432x288 with 1 Axes>"
            ]
          },
          "metadata": {
            "tags": [],
            "needs_background": "light"
          }
        }
      ]
    },
    {
      "cell_type": "code",
      "metadata": {
        "colab": {
          "base_uri": "https://localhost:8080/",
          "height": 296
        },
        "id": "5Z4qMRiq3euk",
        "outputId": "e6582560-f0b0-4040-d89a-798cac15573f"
      },
      "source": [
        "sns.violinplot(x='Alopecia',y='class',data=df)"
      ],
      "execution_count": 28,
      "outputs": [
        {
          "output_type": "execute_result",
          "data": {
            "text/plain": [
              "<matplotlib.axes._subplots.AxesSubplot at 0x7f2bfebfbd50>"
            ]
          },
          "metadata": {
            "tags": []
          },
          "execution_count": 28
        },
        {
          "output_type": "display_data",
          "data": {
            "image/png": "[encoded data removed]",
            "text/plain": [
              "<Figure size 432x288 with 1 Axes>"
            ]
          },
          "metadata": {
            "tags": [],
            "needs_background": "light"
          }
        }
      ]
    },
    {
      "cell_type": "code",
      "metadata": {
        "colab": {
          "base_uri": "https://localhost:8080/",
          "height": 296
        },
        "id": "xY6gDJJH3j4H",
        "outputId": "0eb99285-f65b-4491-d96d-317fff3fd739"
      },
      "source": [
        "sns.barplot(x=\"visual blurring\", y=\"class\", data=df)"
      ],
      "execution_count": 29,
      "outputs": [
        {
          "output_type": "execute_result",
          "data": {
            "text/plain": [
              "<matplotlib.axes._subplots.AxesSubplot at 0x7f2bfeb75b10>"
            ]
          },
          "metadata": {
            "tags": []
          },
          "execution_count": 29
        },
        {
          "output_type": "display_data",
          "data": {
            "image/png": "[encoded data removed]",
            "text/plain": [
              "<Figure size 432x288 with 1 Axes>"
            ]
          },
          "metadata": {
            "tags": [],
            "needs_background": "light"
          }
        }
      ]
    },
    {
      "cell_type": "code",
      "metadata": {
        "colab": {
          "base_uri": "https://localhost:8080/",
          "height": 297
        },
        "id": "15uzRrsS3o2d",
        "outputId": "52f96c63-dc64-4584-ed99-0692c4cb671f"
      },
      "source": [
        "sns.barplot(x=\"Itching\", y=\"class\", data=df)"
      ],
      "execution_count": 30,
      "outputs": [
        {
          "output_type": "execute_result",
          "data": {
            "text/plain": [
              "<matplotlib.axes._subplots.AxesSubplot at 0x7f2bfeae9710>"
            ]
          },
          "metadata": {
            "tags": []
          },
          "execution_count": 30
        },
        {
          "output_type": "display_data",
          "data": {
            "image/png": "[encoded data removed]",
            "text/plain": [
              "<Figure size 432x288 with 1 Axes>"
            ]
          },
          "metadata": {
            "tags": [],
            "needs_background": "light"
          }
        }
      ]
    },
    {
      "cell_type": "code",
      "metadata": {
        "colab": {
          "base_uri": "https://localhost:8080/",
          "height": 296
        },
        "id": "aHyTIYeb3siT",
        "outputId": "533d3735-d8a6-47ab-d255-a6df9aefe4f6"
      },
      "source": [
        "#obesity\n",
        "sns.violinplot(x='Obesity',y='class',data=df)"
      ],
      "execution_count": 31,
      "outputs": [
        {
          "output_type": "execute_result",
          "data": {
            "text/plain": [
              "<matplotlib.axes._subplots.AxesSubplot at 0x7f2bfeb04110>"
            ]
          },
          "metadata": {
            "tags": []
          },
          "execution_count": 31
        },
        {
          "output_type": "display_data",
          "data": {
            "image/png": "[encoded data removed]",
            "text/plain": [
              "<Figure size 432x288 with 1 Axes>"
            ]
          },
          "metadata": {
            "tags": [],
            "needs_background": "light"
          }
        }
      ]
    },
    {
      "cell_type": "code",
      "metadata": {
        "colab": {
          "base_uri": "https://localhost:8080/",
          "height": 296
        },
        "id": "tL7Digu63wSV",
        "outputId": "f1def40b-850a-482e-bce0-cde3afbafae8"
      },
      "source": [
        "sns.barplot(x='Irritability',y='class',data=df)"
      ],
      "execution_count": 32,
      "outputs": [
        {
          "output_type": "execute_result",
          "data": {
            "text/plain": [
              "<matplotlib.axes._subplots.AxesSubplot at 0x7f2bfe9cc810>"
            ]
          },
          "metadata": {
            "tags": []
          },
          "execution_count": 32
        },
        {
          "output_type": "display_data",
          "data": {
            "image/png": "[encoded data removed]",
            "text/plain": [
              "<Figure size 432x288 with 1 Axes>"
            ]
          },
          "metadata": {
            "tags": [],
            "needs_background": "light"
          }
        }
      ]
    },
    {
      "cell_type": "code",
      "metadata": {
        "id": "8ElW5fq132CE"
      },
      "source": [
        "X1 = df.iloc[:,0:-1]\n",
        "y1 = df.iloc[:,-1]"
      ],
      "execution_count": 33,
      "outputs": []
    },
    {
      "cell_type": "code",
      "metadata": {
        "colab": {
          "base_uri": "https://localhost:8080/"
        },
        "id": "czlaK7w935g2",
        "outputId": "511f5829-9b1f-4b4f-9d43-9fec2ae312da"
      },
      "source": [
        "X1.columns"
      ],
      "execution_count": 34,
      "outputs": [
        {
          "output_type": "execute_result",
          "data": {
            "text/plain": [
              "Index(['Age', 'Gender', 'Polyuria', 'Polydipsia', 'sudden weight loss',\n",
              "       'weakness', 'Polyphagia', 'Genital thrush', 'visual blurring',\n",
              "       'Itching', 'Irritability', 'delayed healing', 'partial paresis',\n",
              "       'muscle stiffness', 'Alopecia', 'Obesity'],\n",
              "      dtype='object')"
            ]
          },
          "metadata": {
            "tags": []
          },
          "execution_count": 34
        }
      ]
    },
    {
      "cell_type": "code",
      "metadata": {
        "id": "vEX9YAVk4A3G"
      },
      "source": [
        "from sklearn.feature_selection import SelectKBest\n",
        "from sklearn.feature_selection import chi2\n",
        "best_feature = SelectKBest(score_func=chi2,k=10)\n",
        "fit = best_feature.fit(X1,y1)"
      ],
      "execution_count": 35,
      "outputs": []
    },
    {
      "cell_type": "code",
      "metadata": {
        "id": "qjhgeciB4Kl8"
      },
      "source": [
        "df_scores = pd.DataFrame(fit.scores_)\n",
        "df_cols = pd.DataFrame(X1.columns)"
      ],
      "execution_count": 36,
      "outputs": []
    },
    {
      "cell_type": "code",
      "metadata": {
        "id": "ZtgaZNRX4PgQ"
      },
      "source": [
        "featurescores = pd.concat([df_cols,df_scores],axis=1)\n",
        "featurescores.columns=['column','scores']"
      ],
      "execution_count": 37,
      "outputs": []
    },
    {
      "cell_type": "code",
      "metadata": {
        "colab": {
          "base_uri": "https://localhost:8080/",
          "height": 545
        },
        "id": "2RnervmH4VBZ",
        "outputId": "23b3939e-7fcf-4a68-a03a-f5d7cd9c8ada"
      },
      "source": [
        "featurescores"
      ],
      "execution_count": 38,
      "outputs": [
        {
          "output_type": "execute_result",
          "data": {
            "text/html": [
              "<div>\n",
              "<style scoped>\n",
              "    .dataframe tbody tr th:only-of-type {\n",
              "        vertical-align: middle;\n",
              "    }\n",
              "\n",
              "    .dataframe tbody tr th {\n",
              "        vertical-align: top;\n",
              "    }\n",
              "\n",
              "    .dataframe thead th {\n",
              "        text-align: right;\n",
              "    }\n",
              "</style>\n",
              "<table border=\"1\" class=\"dataframe\">\n",
              "  <thead>\n",
              "    <tr style=\"text-align: right;\">\n",
              "      <th></th>\n",
              "      <th>column</th>\n",
              "      <th>scores</th>\n",
              "    </tr>\n",
              "  </thead>\n",
              "  <tbody>\n",
              "    <tr>\n",
              "      <th>0</th>\n",
              "      <td>Age</td>\n",
              "      <td>18.845767</td>\n",
              "    </tr>\n",
              "    <tr>\n",
              "      <th>1</th>\n",
              "      <td>Gender</td>\n",
              "      <td>38.747637</td>\n",
              "    </tr>\n",
              "    <tr>\n",
              "      <th>2</th>\n",
              "      <td>Polyuria</td>\n",
              "      <td>116.184593</td>\n",
              "    </tr>\n",
              "    <tr>\n",
              "      <th>3</th>\n",
              "      <td>Polydipsia</td>\n",
              "      <td>120.785515</td>\n",
              "    </tr>\n",
              "    <tr>\n",
              "      <th>4</th>\n",
              "      <td>sudden weight loss</td>\n",
              "      <td>57.749309</td>\n",
              "    </tr>\n",
              "    <tr>\n",
              "      <th>5</th>\n",
              "      <td>weakness</td>\n",
              "      <td>12.724262</td>\n",
              "    </tr>\n",
              "    <tr>\n",
              "      <th>6</th>\n",
              "      <td>Polyphagia</td>\n",
              "      <td>33.198418</td>\n",
              "    </tr>\n",
              "    <tr>\n",
              "      <th>7</th>\n",
              "      <td>Genital thrush</td>\n",
              "      <td>4.914009</td>\n",
              "    </tr>\n",
              "    <tr>\n",
              "      <th>8</th>\n",
              "      <td>visual blurring</td>\n",
              "      <td>18.124571</td>\n",
              "    </tr>\n",
              "    <tr>\n",
              "      <th>9</th>\n",
              "      <td>Itching</td>\n",
              "      <td>0.047826</td>\n",
              "    </tr>\n",
              "    <tr>\n",
              "      <th>10</th>\n",
              "      <td>Irritability</td>\n",
              "      <td>35.334127</td>\n",
              "    </tr>\n",
              "    <tr>\n",
              "      <th>11</th>\n",
              "      <td>delayed healing</td>\n",
              "      <td>0.620188</td>\n",
              "    </tr>\n",
              "    <tr>\n",
              "      <th>12</th>\n",
              "      <td>partial paresis</td>\n",
              "      <td>55.314286</td>\n",
              "    </tr>\n",
              "    <tr>\n",
              "      <th>13</th>\n",
              "      <td>muscle stiffness</td>\n",
              "      <td>4.875000</td>\n",
              "    </tr>\n",
              "    <tr>\n",
              "      <th>14</th>\n",
              "      <td>Alopecia</td>\n",
              "      <td>24.402793</td>\n",
              "    </tr>\n",
              "    <tr>\n",
              "      <th>15</th>\n",
              "      <td>Obesity</td>\n",
              "      <td>2.250284</td>\n",
              "    </tr>\n",
              "  </tbody>\n",
              "</table>\n",
              "</div>"
            ],
            "text/plain": [
              "                column      scores\n",
              "0                  Age   18.845767\n",
              "1               Gender   38.747637\n",
              "2             Polyuria  116.184593\n",
              "3           Polydipsia  120.785515\n",
              "4   sudden weight loss   57.749309\n",
              "5             weakness   12.724262\n",
              "6           Polyphagia   33.198418\n",
              "7       Genital thrush    4.914009\n",
              "8      visual blurring   18.124571\n",
              "9              Itching    0.047826\n",
              "10        Irritability   35.334127\n",
              "11     delayed healing    0.620188\n",
              "12     partial paresis   55.314286\n",
              "13    muscle stiffness    4.875000\n",
              "14            Alopecia   24.402793\n",
              "15             Obesity    2.250284"
            ]
          },
          "metadata": {
            "tags": []
          },
          "execution_count": 38
        }
      ]
    },
    {
      "cell_type": "code",
      "metadata": {
        "colab": {
          "base_uri": "https://localhost:8080/"
        },
        "id": "ErBwt11Z4h9m",
        "outputId": "ed3d3089-6a2a-4362-9b10-9045fdce0a35"
      },
      "source": [
        "print(featurescores.nlargest(10,'scores'))"
      ],
      "execution_count": 39,
      "outputs": [
        {
          "output_type": "stream",
          "text": [
            "                column      scores\n",
            "3           Polydipsia  120.785515\n",
            "2             Polyuria  116.184593\n",
            "4   sudden weight loss   57.749309\n",
            "12     partial paresis   55.314286\n",
            "1               Gender   38.747637\n",
            "10        Irritability   35.334127\n",
            "6           Polyphagia   33.198418\n",
            "14            Alopecia   24.402793\n",
            "0                  Age   18.845767\n",
            "8      visual blurring   18.124571\n"
          ],
          "name": "stdout"
        }
      ]
    },
    {
      "cell_type": "code",
      "metadata": {
        "colab": {
          "base_uri": "https://localhost:8080/",
          "height": 282
        },
        "id": "XItLE7Mg4nYt",
        "outputId": "f70f9e1b-ca4d-4377-ebea-db9acd56b55b"
      },
      "source": [
        "featureview=pd.Series(fit.scores_, index=X1.columns)\n",
        "featureview.plot(kind='barh')"
      ],
      "execution_count": null,
      "outputs": [
        {
          "output_type": "execute_result",
          "data": {
            "text/plain": [
              "<matplotlib.axes._subplots.AxesSubplot at 0x7f65288d3850>"
            ]
          },
          "metadata": {
            "tags": []
          },
          "execution_count": 47
        },
        {
          "output_type": "display_data",
          "data": {
            "image/png": "[encoded data removed]",
            "text/plain": [
              "<Figure size 432x288 with 1 Axes>"
            ]
          },
          "metadata": {
            "tags": [],
            "needs_background": "light"
          }
        }
      ]
    },
    {
      "cell_type": "code",
      "metadata": {
        "id": "fsW-Fnbo4q1E"
      },
      "source": [
        "from sklearn.feature_selection import VarianceThreshold\n",
        "feature_high_variance = VarianceThreshold(threshold=(0.5*(1-0.5)))\n",
        "falls=feature_high_variance.fit(X1)"
      ],
      "execution_count": null,
      "outputs": []
    },
    {
      "cell_type": "code",
      "metadata": {
        "id": "-vMgtXbO4v-E"
      },
      "source": [
        "df_scores1 = pd.DataFrame(falls.variances_)\n",
        "dat1 = pd.DataFrame(X1.columns)"
      ],
      "execution_count": null,
      "outputs": []
    },
    {
      "cell_type": "code",
      "metadata": {
        "id": "yr227nVI40aR"
      },
      "source": [
        "high_variance = pd.concat([df_scores1,dat1],axis=1)\n",
        "high_variance.columns=['variance','cols']"
      ],
      "execution_count": null,
      "outputs": []
    },
    {
      "cell_type": "code",
      "metadata": {
        "colab": {
          "base_uri": "https://localhost:8080/",
          "height": 452
        },
        "id": "szrJYKj745gw",
        "outputId": "676f17a3-9c1e-4dd5-e975-3a30a545e1b5"
      },
      "source": [
        "high_variance[high_variance['variance']>0.2]"
      ],
      "execution_count": null,
      "outputs": [
        {
          "output_type": "execute_result",
          "data": {
            "text/html": [
              "<div>\n",
              "<style scoped>\n",
              "    .dataframe tbody tr th:only-of-type {\n",
              "        vertical-align: middle;\n",
              "    }\n",
              "\n",
              "    .dataframe tbody tr th {\n",
              "        vertical-align: top;\n",
              "    }\n",
              "\n",
              "    .dataframe thead th {\n",
              "        text-align: right;\n",
              "    }\n",
              "</style>\n",
              "<table border=\"1\" class=\"dataframe\">\n",
              "  <thead>\n",
              "    <tr style=\"text-align: right;\">\n",
              "      <th></th>\n",
              "      <th>variance</th>\n",
              "      <th>cols</th>\n",
              "    </tr>\n",
              "  </thead>\n",
              "  <tbody>\n",
              "    <tr>\n",
              "      <th>0</th>\n",
              "      <td>147.374168</td>\n",
              "      <td>Age</td>\n",
              "    </tr>\n",
              "    <tr>\n",
              "      <th>1</th>\n",
              "      <td>0.232899</td>\n",
              "      <td>Gender</td>\n",
              "    </tr>\n",
              "    <tr>\n",
              "      <th>2</th>\n",
              "      <td>0.249985</td>\n",
              "      <td>Polyuria</td>\n",
              "    </tr>\n",
              "    <tr>\n",
              "      <th>3</th>\n",
              "      <td>0.247304</td>\n",
              "      <td>Polydipsia</td>\n",
              "    </tr>\n",
              "    <tr>\n",
              "      <th>4</th>\n",
              "      <td>0.243162</td>\n",
              "      <td>sudden weight loss</td>\n",
              "    </tr>\n",
              "    <tr>\n",
              "      <th>5</th>\n",
              "      <td>0.242511</td>\n",
              "      <td>weakness</td>\n",
              "    </tr>\n",
              "    <tr>\n",
              "      <th>6</th>\n",
              "      <td>0.248044</td>\n",
              "      <td>Polyphagia</td>\n",
              "    </tr>\n",
              "    <tr>\n",
              "      <th>8</th>\n",
              "      <td>0.247304</td>\n",
              "      <td>visual blurring</td>\n",
              "    </tr>\n",
              "    <tr>\n",
              "      <th>9</th>\n",
              "      <td>0.249819</td>\n",
              "      <td>Itching</td>\n",
              "    </tr>\n",
              "    <tr>\n",
              "      <th>11</th>\n",
              "      <td>0.248369</td>\n",
              "      <td>delayed healing</td>\n",
              "    </tr>\n",
              "    <tr>\n",
              "      <th>12</th>\n",
              "      <td>0.245207</td>\n",
              "      <td>partial paresis</td>\n",
              "    </tr>\n",
              "    <tr>\n",
              "      <th>13</th>\n",
              "      <td>0.234375</td>\n",
              "      <td>muscle stiffness</td>\n",
              "    </tr>\n",
              "    <tr>\n",
              "      <th>14</th>\n",
              "      <td>0.225736</td>\n",
              "      <td>Alopecia</td>\n",
              "    </tr>\n",
              "  </tbody>\n",
              "</table>\n",
              "</div>"
            ],
            "text/plain": [
              "      variance                cols\n",
              "0   147.374168                 Age\n",
              "1     0.232899              Gender\n",
              "2     0.249985            Polyuria\n",
              "3     0.247304          Polydipsia\n",
              "4     0.243162  sudden weight loss\n",
              "5     0.242511            weakness\n",
              "6     0.248044          Polyphagia\n",
              "8     0.247304     visual blurring\n",
              "9     0.249819             Itching\n",
              "11    0.248369     delayed healing\n",
              "12    0.245207     partial paresis\n",
              "13    0.234375    muscle stiffness\n",
              "14    0.225736            Alopecia"
            ]
          },
          "metadata": {
            "tags": []
          },
          "execution_count": 51
        }
      ]
    },
    {
      "cell_type": "code",
      "metadata": {
        "id": "Y-52R2ou4-BO"
      },
      "source": [
        "X = df[['Polydipsia','sudden weight loss','partial paresis','Irritability','Polyphagia','Age','visual blurring']]\n",
        "y = df['class']"
      ],
      "execution_count": null,
      "outputs": []
    },
    {
      "cell_type": "code",
      "metadata": {
        "id": "_gktf9U45D-4"
      },
      "source": [
        "from sklearn.model_selection import train_test_split\n",
        "X_train,X_test,y_train,y_test = train_test_split(X,y,test_size = 0.2,random_state=0)"
      ],
      "execution_count": null,
      "outputs": []
    },
    {
      "cell_type": "code",
      "metadata": {
        "id": "il_4KyFD5HSf"
      },
      "source": [
        "from sklearn.preprocessing import StandardScaler\n",
        "ss = StandardScaler()\n",
        "X_train = ss.fit_transform(X_train)\n",
        "X_test = ss.transform(X_test)"
      ],
      "execution_count": null,
      "outputs": []
    },
    {
      "cell_type": "code",
      "metadata": {
        "colab": {
          "base_uri": "https://localhost:8080/"
        },
        "id": "Kaz9s9Ej5LKY",
        "outputId": "f8f18f7a-a469-46ed-f780-fcae0bc3770e"
      },
      "source": [
        "#Logistic regression\n",
        "from sklearn.linear_model import LogisticRegression\n",
        "lg=LogisticRegression()\n",
        "lg.fit(X_train,y_train)"
      ],
      "execution_count": null,
      "outputs": [
        {
          "output_type": "execute_result",
          "data": {
            "text/plain": [
              "LogisticRegression(C=1.0, class_weight=None, dual=False, fit_intercept=True,\n",
              "                   intercept_scaling=1, l1_ratio=None, max_iter=100,\n",
              "                   multi_class='auto', n_jobs=None, penalty='l2',\n",
              "                   random_state=None, solver='lbfgs', tol=0.0001, verbose=0,\n",
              "                   warm_start=False)"
            ]
          },
          "metadata": {
            "tags": []
          },
          "execution_count": 56
        }
      ]
    },
    {
      "cell_type": "code",
      "metadata": {
        "colab": {
          "base_uri": "https://localhost:8080/"
        },
        "id": "sdK72UVX5OXq",
        "outputId": "9eadb253-e5c5-4854-97b3-7b4c6f0fa6b7"
      },
      "source": [
        "from sklearn.model_selection import cross_val_score\n",
        "accuracies = cross_val_score(estimator=lg, X=X_train ,y=y_train,cv=10)\n",
        "print(\"accuracy is {:.2f} %\".format(accuracies.mean()*100))\n",
        "print(\"std is {:.2f} %\".format(accuracies.std()*100))"
      ],
      "execution_count": null,
      "outputs": [
        {
          "output_type": "stream",
          "text": [
            "accuracy is 84.85 %\n",
            "std is 4.95 %\n"
          ],
          "name": "stdout"
        }
      ]
    },
    {
      "cell_type": "code",
      "metadata": {
        "id": "80e8C-1u5VuS"
      },
      "source": [
        "pre=lg.predict(X_test)"
      ],
      "execution_count": null,
      "outputs": []
    },
    {
      "cell_type": "code",
      "metadata": {
        "colab": {
          "base_uri": "https://localhost:8080/"
        },
        "id": "Mt1qn-_95Y0d",
        "outputId": "96ec3c7f-544b-4e3b-afdc-52f467724a9e"
      },
      "source": [
        "logistic_regression=accuracy_score(pre,y_test)\n",
        "print(accuracy_score(pre,y_test))\n",
        "print(confusion_matrix(pre,y_test))"
      ],
      "execution_count": null,
      "outputs": [
        {
          "output_type": "stream",
          "text": [
            "0.8942307692307693\n",
            "[[34  5]\n",
            " [ 6 59]]\n"
          ],
          "name": "stdout"
        }
      ]
    },
    {
      "cell_type": "code",
      "metadata": {
        "colab": {
          "base_uri": "https://localhost:8080/"
        },
        "id": "yABfcPUt5bpW",
        "outputId": "cdcb1ef5-caf3-4be7-ab57-afeaa33e015a"
      },
      "source": [
        "from sklearn.metrics import classification_report\n",
        "print(classification_report(pre,y_test))"
      ],
      "execution_count": null,
      "outputs": [
        {
          "output_type": "stream",
          "text": [
            "              precision    recall  f1-score   support\n",
            "\n",
            "           0       0.85      0.87      0.86        39\n",
            "           1       0.92      0.91      0.91        65\n",
            "\n",
            "    accuracy                           0.89       104\n",
            "   macro avg       0.89      0.89      0.89       104\n",
            "weighted avg       0.89      0.89      0.89       104\n",
            "\n"
          ],
          "name": "stdout"
        }
      ]
    },
    {
      "cell_type": "code",
      "metadata": {
        "colab": {
          "base_uri": "https://localhost:8080/"
        },
        "id": "UdFMFYsa5ein",
        "outputId": "7a5d02a3-1988-4e7d-a340-8c6114f85f4b"
      },
      "source": [
        "#SVM Linear\n",
        "from sklearn.svm import SVC\n",
        "sv=SVC(kernel='linear',random_state=0)\n",
        "sv.fit(X_train,y_train)"
      ],
      "execution_count": null,
      "outputs": [
        {
          "output_type": "execute_result",
          "data": {
            "text/plain": [
              "SVC(C=1.0, break_ties=False, cache_size=200, class_weight=None, coef0=0.0,\n",
              "    decision_function_shape='ovr', degree=3, gamma='scale', kernel='linear',\n",
              "    max_iter=-1, probability=False, random_state=0, shrinking=True, tol=0.001,\n",
              "    verbose=False)"
            ]
          },
          "metadata": {
            "tags": []
          },
          "execution_count": 61
        }
      ]
    },
    {
      "cell_type": "code",
      "metadata": {
        "colab": {
          "base_uri": "https://localhost:8080/"
        },
        "id": "n7LxKqc35iGu",
        "outputId": "45c9a308-0112-4e06-a930-3ac989145d8a"
      },
      "source": [
        "from sklearn.model_selection import cross_val_score\n",
        "accuracies = cross_val_score(estimator=sv, X=X_train ,y=y_train,cv=10)\n",
        "print(\"accuracy is {:.2f} %\".format(accuracies.mean()*100))\n",
        "print(\"std is {:.2f} %\".format(accuracies.std()*100))"
      ],
      "execution_count": null,
      "outputs": [
        {
          "output_type": "stream",
          "text": [
            "accuracy is 83.18 %\n",
            "std is 4.94 %\n"
          ],
          "name": "stdout"
        }
      ]
    },
    {
      "cell_type": "code",
      "metadata": {
        "id": "z-bz_e6E5l0G"
      },
      "source": [
        "pre1=sv.predict(X_test)"
      ],
      "execution_count": null,
      "outputs": []
    },
    {
      "cell_type": "code",
      "metadata": {
        "colab": {
          "base_uri": "https://localhost:8080/"
        },
        "id": "50q1tM9j5o5j",
        "outputId": "2956c562-4d39-404c-da5d-b93057d3b518"
      },
      "source": [
        "svm_linear=accuracy_score(pre1,y_test)\n",
        "print(accuracy_score(pre1,y_test))\n",
        "print(confusion_matrix(pre1,y_test))"
      ],
      "execution_count": null,
      "outputs": [
        {
          "output_type": "stream",
          "text": [
            "0.9038461538461539\n",
            "[[34  4]\n",
            " [ 6 60]]\n"
          ],
          "name": "stdout"
        }
      ]
    },
    {
      "cell_type": "code",
      "metadata": {
        "colab": {
          "base_uri": "https://localhost:8080/"
        },
        "id": "4JyWIO9b5rmS",
        "outputId": "f5e592d5-fc1c-47a8-b886-28728972d906"
      },
      "source": [
        "#SVM RBF\n",
        "from sklearn.metrics import classification_report\n",
        "print(classification_report(pre1,y_test))"
      ],
      "execution_count": null,
      "outputs": [
        {
          "output_type": "stream",
          "text": [
            "              precision    recall  f1-score   support\n",
            "\n",
            "           0       0.85      0.89      0.87        38\n",
            "           1       0.94      0.91      0.92        66\n",
            "\n",
            "    accuracy                           0.90       104\n",
            "   macro avg       0.89      0.90      0.90       104\n",
            "weighted avg       0.91      0.90      0.90       104\n",
            "\n"
          ],
          "name": "stdout"
        }
      ]
    },
    {
      "cell_type": "code",
      "metadata": {
        "colab": {
          "base_uri": "https://localhost:8080/"
        },
        "id": "91JEpXI_5u1n",
        "outputId": "8ba116b1-dd0e-451b-e1f3-c6e1d5039daa"
      },
      "source": [
        "from sklearn.svm import SVC\n",
        "svrf=SVC(kernel='rbf',random_state=0)\n",
        "svrf.fit(X_train,y_train)"
      ],
      "execution_count": null,
      "outputs": [
        {
          "output_type": "execute_result",
          "data": {
            "text/plain": [
              "SVC(C=1.0, break_ties=False, cache_size=200, class_weight=None, coef0=0.0,\n",
              "    decision_function_shape='ovr', degree=3, gamma='scale', kernel='rbf',\n",
              "    max_iter=-1, probability=False, random_state=0, shrinking=True, tol=0.001,\n",
              "    verbose=False)"
            ]
          },
          "metadata": {
            "tags": []
          },
          "execution_count": 66
        }
      ]
    },
    {
      "cell_type": "code",
      "metadata": {
        "colab": {
          "base_uri": "https://localhost:8080/"
        },
        "id": "uzkPUTRo5x9G",
        "outputId": "139972a7-48f3-4cfb-ab74-1d5a9fa914c2"
      },
      "source": [
        "from sklearn.model_selection import cross_val_score\n",
        "accuracies = cross_val_score(estimator=svrf, X=X_train ,y=y_train,cv=10)\n",
        "print(\"accuracy is {:.2f} %\".format(accuracies.mean()*100))\n",
        "print(\"std is {:.2f} %\".format(accuracies.std()*100))"
      ],
      "execution_count": null,
      "outputs": [
        {
          "output_type": "stream",
          "text": [
            "accuracy is 88.47 %\n",
            "std is 3.69 %\n"
          ],
          "name": "stdout"
        }
      ]
    },
    {
      "cell_type": "code",
      "metadata": {
        "id": "Fgvl3Mo553OY"
      },
      "source": [
        "pre2=svrf.predict(X_test)"
      ],
      "execution_count": null,
      "outputs": []
    },
    {
      "cell_type": "code",
      "metadata": {
        "colab": {
          "base_uri": "https://localhost:8080/"
        },
        "id": "8JY2sNph56Yy",
        "outputId": "084554cc-a814-41b8-c3d3-9fedb94b5c67"
      },
      "source": [
        "svm_rbf=accuracy_score(pre2,y_test)\n",
        "print(accuracy_score(pre2,y_test))\n",
        "print(confusion_matrix(pre2,y_test))"
      ],
      "execution_count": null,
      "outputs": [
        {
          "output_type": "stream",
          "text": [
            "0.9807692307692307\n",
            "[[39  1]\n",
            " [ 1 63]]\n"
          ],
          "name": "stdout"
        }
      ]
    },
    {
      "cell_type": "code",
      "metadata": {
        "colab": {
          "base_uri": "https://localhost:8080/"
        },
        "id": "1MAGAhMf59bt",
        "outputId": "57ca3c0d-b468-4986-a0cf-f6252269cc77"
      },
      "source": [
        "from sklearn.metrics import classification_report\n",
        "print(classification_report(pre2,y_test))"
      ],
      "execution_count": null,
      "outputs": [
        {
          "output_type": "stream",
          "text": [
            "              precision    recall  f1-score   support\n",
            "\n",
            "           0       0.97      0.97      0.97        40\n",
            "           1       0.98      0.98      0.98        64\n",
            "\n",
            "    accuracy                           0.98       104\n",
            "   macro avg       0.98      0.98      0.98       104\n",
            "weighted avg       0.98      0.98      0.98       104\n",
            "\n"
          ],
          "name": "stdout"
        }
      ]
    },
    {
      "cell_type": "code",
      "metadata": {
        "colab": {
          "base_uri": "https://localhost:8080/"
        },
        "id": "TolhnDo56A8Q",
        "outputId": "e78a0507-a810-48db-9c28-1d663ebc7779"
      },
      "source": [
        "#KNN\n",
        "from sklearn.neighbors import KNeighborsClassifier\n",
        "score=[]\n",
        "\n",
        "for i in range(1,10):\n",
        "    \n",
        "    \n",
        "    knn=KNeighborsClassifier(n_neighbors=i,metric='minkowski',p=2)\n",
        "    knn.fit(X_train,y_train)\n",
        "    pre3=knn.predict(X_test)\n",
        "    ans=accuracy_score(pre3,y_test)\n",
        "    score.append(round(100*ans,2))\n",
        "print(sorted(score,reverse=True)[:5])\n",
        "knn=sorted(score,reverse=True)[:1]"
      ],
      "execution_count": null,
      "outputs": [
        {
          "output_type": "stream",
          "text": [
            "[98.08, 98.08, 98.08, 98.08, 97.12]\n"
          ],
          "name": "stdout"
        }
      ]
    },
    {
      "cell_type": "code",
      "metadata": {
        "colab": {
          "base_uri": "https://localhost:8080/"
        },
        "id": "iNB6Dy6t6Ecf",
        "outputId": "b6c4c262-6bc3-423d-add4-e904c6defc70"
      },
      "source": [
        "#Naive Bayes Classifier\n",
        "from sklearn.naive_bayes import GaussianNB\n",
        "gb=GaussianNB()\n",
        "gb.fit(X_train,y_train)"
      ],
      "execution_count": null,
      "outputs": [
        {
          "output_type": "execute_result",
          "data": {
            "text/plain": [
              "GaussianNB(priors=None, var_smoothing=1e-09)"
            ]
          },
          "metadata": {
            "tags": []
          },
          "execution_count": 72
        }
      ]
    },
    {
      "cell_type": "code",
      "metadata": {
        "colab": {
          "base_uri": "https://localhost:8080/"
        },
        "id": "Ld7MbdN_6L_w",
        "outputId": "63c0ca90-2fbb-44e9-fa03-32a603e04c12"
      },
      "source": [
        "from sklearn.model_selection import cross_val_score\n",
        "accuracies = cross_val_score(estimator=gb, X=X_train ,y=y_train,cv=10)\n",
        "print(\"accuracy is {:.2f} %\".format(accuracies.mean()*100))\n",
        "print(\"std is {:.2f} %\".format(accuracies.std()*100))"
      ],
      "execution_count": null,
      "outputs": [
        {
          "output_type": "stream",
          "text": [
            "accuracy is 82.94 %\n",
            "std is 8.03 %\n"
          ],
          "name": "stdout"
        }
      ]
    },
    {
      "cell_type": "code",
      "metadata": {
        "id": "fF6efz2J6QA5"
      },
      "source": [
        "pre4=gb.predict(X_test)"
      ],
      "execution_count": null,
      "outputs": []
    },
    {
      "cell_type": "code",
      "metadata": {
        "colab": {
          "base_uri": "https://localhost:8080/"
        },
        "id": "msskKu6Q6Taj",
        "outputId": "52abfe73-ed86-466e-b269-fedc89560e3f"
      },
      "source": [
        "Naive_bayes_Gaussian_nb=accuracy_score(pre4,y_test)\n",
        "print(accuracy_score(pre4,y_test))\n",
        "print(confusion_matrix(pre4,y_test))"
      ],
      "execution_count": null,
      "outputs": [
        {
          "output_type": "stream",
          "text": [
            "0.8557692307692307\n",
            "[[32  7]\n",
            " [ 8 57]]\n"
          ],
          "name": "stdout"
        }
      ]
    },
    {
      "cell_type": "code",
      "metadata": {
        "colab": {
          "base_uri": "https://localhost:8080/"
        },
        "id": "3vOTmqss6ZQt",
        "outputId": "4c99cf56-a4b9-4f54-d508-074af4d441f9"
      },
      "source": [
        "from sklearn.metrics import classification_report\n",
        "print(classification_report(pre4,y_test))"
      ],
      "execution_count": null,
      "outputs": [
        {
          "output_type": "stream",
          "text": [
            "              precision    recall  f1-score   support\n",
            "\n",
            "           0       0.80      0.82      0.81        39\n",
            "           1       0.89      0.88      0.88        65\n",
            "\n",
            "    accuracy                           0.86       104\n",
            "   macro avg       0.85      0.85      0.85       104\n",
            "weighted avg       0.86      0.86      0.86       104\n",
            "\n"
          ],
          "name": "stdout"
        }
      ]
    },
    {
      "cell_type": "code",
      "metadata": {
        "colab": {
          "base_uri": "https://localhost:8080/"
        },
        "id": "aezZjPhS6cEd",
        "outputId": "6cbdfeaf-3a36-4014-d4dd-1d2be88abf07"
      },
      "source": [
        "from sklearn.tree import DecisionTreeClassifier\n",
        "dc=DecisionTreeClassifier(criterion='gini')\n",
        "dc.fit(X_train,y_train)"
      ],
      "execution_count": null,
      "outputs": [
        {
          "output_type": "execute_result",
          "data": {
            "text/plain": [
              "DecisionTreeClassifier(ccp_alpha=0.0, class_weight=None, criterion='gini',\n",
              "                       max_depth=None, max_features=None, max_leaf_nodes=None,\n",
              "                       min_impurity_decrease=0.0, min_impurity_split=None,\n",
              "                       min_samples_leaf=1, min_samples_split=2,\n",
              "                       min_weight_fraction_leaf=0.0, presort='deprecated',\n",
              "                       random_state=None, splitter='best')"
            ]
          },
          "metadata": {
            "tags": []
          },
          "execution_count": 77
        }
      ]
    },
    {
      "cell_type": "code",
      "metadata": {
        "colab": {
          "base_uri": "https://localhost:8080/"
        },
        "id": "oy0fF2wf6n1Q",
        "outputId": "cf1d69da-9a18-45a4-fec6-3d206ed781b4"
      },
      "source": [
        "from sklearn.model_selection import cross_val_score\n",
        "accuracies = cross_val_score(estimator=dc, X=X_train ,y=y_train,cv=10)\n",
        "print(\"accuracy is {:.2f} %\".format(accuracies.mean()*100))\n",
        "print(\"std is {:.2f} %\".format(accuracies.std()*100))"
      ],
      "execution_count": null,
      "outputs": [
        {
          "output_type": "stream",
          "text": [
            "accuracy is 91.12 %\n",
            "std is 3.70 %\n"
          ],
          "name": "stdout"
        }
      ]
    },
    {
      "cell_type": "code",
      "metadata": {
        "id": "S9cyTFF66rMi"
      },
      "source": [
        "pre5=dc.predict(X_test)"
      ],
      "execution_count": null,
      "outputs": []
    },
    {
      "cell_type": "code",
      "metadata": {
        "colab": {
          "base_uri": "https://localhost:8080/"
        },
        "id": "d8O9IwNM6uuk",
        "outputId": "8a836d06-db2f-4a49-aeb3-8d917e728ec2"
      },
      "source": [
        "#Decision Trees\n",
        "Decisiontress_classifier=accuracy_score(pre5,y_test)\n",
        "print(accuracy_score(pre5,y_test))\n",
        "print(confusion_matrix(pre5,y_test))"
      ],
      "execution_count": null,
      "outputs": [
        {
          "output_type": "stream",
          "text": [
            "0.9711538461538461\n",
            "[[39  2]\n",
            " [ 1 62]]\n"
          ],
          "name": "stdout"
        }
      ]
    },
    {
      "cell_type": "code",
      "metadata": {
        "colab": {
          "base_uri": "https://localhost:8080/"
        },
        "id": "3t04xyfo6xeO",
        "outputId": "fe75accf-4e37-4c25-9b08-37e42b374262"
      },
      "source": [
        "from sklearn.metrics import classification_report\n",
        "print(classification_report(pre5,y_test))"
      ],
      "execution_count": null,
      "outputs": [
        {
          "output_type": "stream",
          "text": [
            "              precision    recall  f1-score   support\n",
            "\n",
            "           0       0.97      0.95      0.96        41\n",
            "           1       0.97      0.98      0.98        63\n",
            "\n",
            "    accuracy                           0.97       104\n",
            "   macro avg       0.97      0.97      0.97       104\n",
            "weighted avg       0.97      0.97      0.97       104\n",
            "\n"
          ],
          "name": "stdout"
        }
      ]
    },
    {
      "cell_type": "code",
      "metadata": {
        "id": "66KDRj3g60hy"
      },
      "source": [
        "#Random Forest Classifier\n",
        "from sklearn.ensemble import RandomForestClassifier\n",
        "estime=[]\n",
        "for i in range(1,100):\n",
        "    rc=RandomForestClassifier(n_estimators=i,criterion='entropy',random_state=0)\n",
        "    rc.fit(X_train,y_train)"
      ],
      "execution_count": null,
      "outputs": []
    },
    {
      "cell_type": "code",
      "metadata": {
        "colab": {
          "base_uri": "https://localhost:8080/"
        },
        "id": "PTp58PO467No",
        "outputId": "27a755be-c686-4861-c571-3b15fa25fe4b"
      },
      "source": [
        "from sklearn.model_selection import cross_val_score\n",
        "accuracies = cross_val_score(estimator=rc, X=X_train ,y=y_train,cv=10)\n",
        "print(\"accuracy is {:.2f} %\".format(accuracies.mean()*100))\n",
        "print(\"std is {:.2f} %\".format(accuracies.std()*100))"
      ],
      "execution_count": null,
      "outputs": [
        {
          "output_type": "stream",
          "text": [
            "accuracy is 89.90 %\n",
            "std is 5.60 %\n"
          ],
          "name": "stdout"
        }
      ]
    },
    {
      "cell_type": "code",
      "metadata": {
        "id": "BwVwtbP06-uG"
      },
      "source": [
        "pre6 = rc.predict(X_test)"
      ],
      "execution_count": null,
      "outputs": []
    },
    {
      "cell_type": "code",
      "metadata": {
        "colab": {
          "base_uri": "https://localhost:8080/"
        },
        "id": "k1QXsvD57CTS",
        "outputId": "8f543e50-1bc7-4ef3-da01-b7a13c378025"
      },
      "source": [
        "Random_forest=accuracy_score(pre6,y_test)\n",
        "print(accuracy_score(pre6,y_test))\n",
        "print(confusion_matrix(pre6,y_test))"
      ],
      "execution_count": null,
      "outputs": [
        {
          "output_type": "stream",
          "text": [
            "0.9807692307692307\n",
            "[[39  1]\n",
            " [ 1 63]]\n"
          ],
          "name": "stdout"
        }
      ]
    },
    {
      "cell_type": "code",
      "metadata": {
        "colab": {
          "base_uri": "https://localhost:8080/"
        },
        "id": "h885h5hr7FaA",
        "outputId": "f3bf4011-7e40-47d5-9c20-cfc96ce15db6"
      },
      "source": [
        "from sklearn.metrics import classification_report\n",
        "print(classification_report(pre6,y_test))"
      ],
      "execution_count": null,
      "outputs": [
        {
          "output_type": "stream",
          "text": [
            "              precision    recall  f1-score   support\n",
            "\n",
            "           0       0.97      0.97      0.97        40\n",
            "           1       0.98      0.98      0.98        64\n",
            "\n",
            "    accuracy                           0.98       104\n",
            "   macro avg       0.98      0.98      0.98       104\n",
            "weighted avg       0.98      0.98      0.98       104\n",
            "\n"
          ],
          "name": "stdout"
        }
      ]
    },
    {
      "cell_type": "code",
      "metadata": {
        "colab": {
          "base_uri": "https://localhost:8080/"
        },
        "id": "RD8qBcHl7I1x",
        "outputId": "5fc1d575-4b78-45fd-a9e0-b7fea5d317ed"
      },
      "source": [
        "#Accuracies of all classification model overview\n",
        "print('Logistic regression:',logistic_regression)\n",
        "print('svmlinear:',svm_linear)\n",
        "print('svmrbf:',svm_rbf)\n",
        "print('knn:',knn)\n",
        "print('naive bayes:',Naive_bayes_Gaussian_nb)\n",
        "print('Decision tress:',Decisiontress_classifier)\n",
        "print('Random forest:',Random_forest)"
      ],
      "execution_count": null,
      "outputs": [
        {
          "output_type": "stream",
          "text": [
            "Logistic regression: 0.8942307692307693\n",
            "svmlinear: 0.9038461538461539\n",
            "svmrbf: 0.9807692307692307\n",
            "knn: [98.08]\n",
            "naive bayes: 0.8557692307692307\n",
            "Decision tress: 0.9711538461538461\n",
            "Random forest: 0.9807692307692307\n"
          ],
          "name": "stdout"
        }
      ]
    },
    {
      "cell_type": "code",
      "metadata": {
        "id": "_wWW9HPJ7XVn"
      },
      "source": [
        "#The Best model is SVM, KNN and Random forest with 98%"
      ],
      "execution_count": null,
      "outputs": []
    }
  ]
}